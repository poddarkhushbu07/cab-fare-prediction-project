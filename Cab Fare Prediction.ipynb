{
 "cells": [
  {
   "cell_type": "code",
   "execution_count": 1,
   "metadata": {},
   "outputs": [],
   "source": [
    "# importing all necessary libraries.\n",
    "import os\n",
    "import pandas as pd\n",
    "import numpy as np\n",
    "import matplotlib.pyplot as plt\n",
    "%matplotlib inline\n",
    "import seaborn as sns\n",
    "import datetime\n",
    "import scipy.stats\n",
    "import sklearn\n",
    "from sklearn.model_selection import train_test_split\n",
    "from sklearn import tree\n",
    "from sklearn.ensemble import RandomForestRegressor\n",
    "# to display all the columns of the dataframe in the notebook\n",
    "#pd.pandas.set_option('display.max_columns', None)\n",
    "from sklearn.linear_model import Lasso\n",
    "from sklearn.feature_selection import SelectFromModel\n",
    "import statsmodels.api as sm\n",
    "from sklearn.tree import DecisionTreeRegressor"
   ]
  },
  {
   "cell_type": "code",
   "execution_count": 2,
   "metadata": {},
   "outputs": [
    {
     "data": {
      "text/plain": [
       "'D:\\\\R and PYTHON files\\\\data set\\\\project 3'"
      ]
     },
     "execution_count": 2,
     "metadata": {},
     "output_type": "execute_result"
    }
   ],
   "source": [
    "# setting up the working directory.\n",
    "os.chdir(\"D:/R and PYTHON files/data set/project 3\")\n",
    "os.getcwd()"
   ]
  },
  {
   "cell_type": "code",
   "execution_count": 3,
   "metadata": {},
   "outputs": [],
   "source": [
    "# loading the data in python environment.\n",
    "A=pd.read_csv(\"train_cab.csv\",sep=',',dtype={'fare_amount':np.float},na_values={'fare_amount':'430-'}) # A= train data.\n",
    "B=pd.read_csv(\"test.csv\",sep=',')                                                                      # B= test data.\n",
    "data=[A,B]\n",
    "for i in data:\n",
    "    i['pickup_datetime']=pd.to_datetime(i['pickup_datetime'],errors='coerce')"
   ]
  },
  {
   "cell_type": "code",
   "execution_count": 4,
   "metadata": {},
   "outputs": [
    {
     "data": {
      "text/plain": [
       "((16067, 7), (9914, 6))"
      ]
     },
     "execution_count": 4,
     "metadata": {},
     "output_type": "execute_result"
    }
   ],
   "source": [
    "# Exploratory Data analysis\n",
    "A.shape, B.shape"
   ]
  },
  {
   "cell_type": "code",
   "execution_count": 5,
   "metadata": {},
   "outputs": [
    {
     "data": {
      "text/html": [
       "<div>\n",
       "<style scoped>\n",
       "    .dataframe tbody tr th:only-of-type {\n",
       "        vertical-align: middle;\n",
       "    }\n",
       "\n",
       "    .dataframe tbody tr th {\n",
       "        vertical-align: top;\n",
       "    }\n",
       "\n",
       "    .dataframe thead th {\n",
       "        text-align: right;\n",
       "    }\n",
       "</style>\n",
       "<table border=\"1\" class=\"dataframe\">\n",
       "  <thead>\n",
       "    <tr style=\"text-align: right;\">\n",
       "      <th></th>\n",
       "      <th>fare_amount</th>\n",
       "      <th>pickup_datetime</th>\n",
       "      <th>pickup_longitude</th>\n",
       "      <th>pickup_latitude</th>\n",
       "      <th>dropoff_longitude</th>\n",
       "      <th>dropoff_latitude</th>\n",
       "      <th>passenger_count</th>\n",
       "    </tr>\n",
       "  </thead>\n",
       "  <tbody>\n",
       "    <tr>\n",
       "      <th>0</th>\n",
       "      <td>4.5</td>\n",
       "      <td>2009-06-15 17:26:21+00:00</td>\n",
       "      <td>-73.844311</td>\n",
       "      <td>40.721319</td>\n",
       "      <td>-73.841610</td>\n",
       "      <td>40.712278</td>\n",
       "      <td>1.0</td>\n",
       "    </tr>\n",
       "    <tr>\n",
       "      <th>1</th>\n",
       "      <td>16.9</td>\n",
       "      <td>2010-01-05 16:52:16+00:00</td>\n",
       "      <td>-74.016048</td>\n",
       "      <td>40.711303</td>\n",
       "      <td>-73.979268</td>\n",
       "      <td>40.782004</td>\n",
       "      <td>1.0</td>\n",
       "    </tr>\n",
       "    <tr>\n",
       "      <th>2</th>\n",
       "      <td>5.7</td>\n",
       "      <td>2011-08-18 00:35:00+00:00</td>\n",
       "      <td>-73.982738</td>\n",
       "      <td>40.761270</td>\n",
       "      <td>-73.991242</td>\n",
       "      <td>40.750562</td>\n",
       "      <td>2.0</td>\n",
       "    </tr>\n",
       "    <tr>\n",
       "      <th>3</th>\n",
       "      <td>7.7</td>\n",
       "      <td>2012-04-21 04:30:42+00:00</td>\n",
       "      <td>-73.987130</td>\n",
       "      <td>40.733143</td>\n",
       "      <td>-73.991567</td>\n",
       "      <td>40.758092</td>\n",
       "      <td>1.0</td>\n",
       "    </tr>\n",
       "    <tr>\n",
       "      <th>4</th>\n",
       "      <td>5.3</td>\n",
       "      <td>2010-03-09 07:51:00+00:00</td>\n",
       "      <td>-73.968095</td>\n",
       "      <td>40.768008</td>\n",
       "      <td>-73.956655</td>\n",
       "      <td>40.783762</td>\n",
       "      <td>1.0</td>\n",
       "    </tr>\n",
       "    <tr>\n",
       "      <th>5</th>\n",
       "      <td>12.1</td>\n",
       "      <td>2011-01-06 09:50:45+00:00</td>\n",
       "      <td>-74.000964</td>\n",
       "      <td>40.731630</td>\n",
       "      <td>-73.972892</td>\n",
       "      <td>40.758233</td>\n",
       "      <td>1.0</td>\n",
       "    </tr>\n",
       "    <tr>\n",
       "      <th>6</th>\n",
       "      <td>7.5</td>\n",
       "      <td>2012-11-20 20:35:00+00:00</td>\n",
       "      <td>-73.980002</td>\n",
       "      <td>40.751662</td>\n",
       "      <td>-73.973802</td>\n",
       "      <td>40.764842</td>\n",
       "      <td>1.0</td>\n",
       "    </tr>\n",
       "    <tr>\n",
       "      <th>7</th>\n",
       "      <td>16.5</td>\n",
       "      <td>2012-01-04 17:22:00+00:00</td>\n",
       "      <td>-73.951300</td>\n",
       "      <td>40.774138</td>\n",
       "      <td>-73.990095</td>\n",
       "      <td>40.751048</td>\n",
       "      <td>1.0</td>\n",
       "    </tr>\n",
       "    <tr>\n",
       "      <th>8</th>\n",
       "      <td>NaN</td>\n",
       "      <td>2012-12-03 13:10:00+00:00</td>\n",
       "      <td>-74.006462</td>\n",
       "      <td>40.726713</td>\n",
       "      <td>-73.993078</td>\n",
       "      <td>40.731628</td>\n",
       "      <td>1.0</td>\n",
       "    </tr>\n",
       "    <tr>\n",
       "      <th>9</th>\n",
       "      <td>8.9</td>\n",
       "      <td>2009-09-02 01:11:00+00:00</td>\n",
       "      <td>-73.980658</td>\n",
       "      <td>40.733873</td>\n",
       "      <td>-73.991540</td>\n",
       "      <td>40.758138</td>\n",
       "      <td>2.0</td>\n",
       "    </tr>\n",
       "  </tbody>\n",
       "</table>\n",
       "</div>"
      ],
      "text/plain": [
       "   fare_amount           pickup_datetime  pickup_longitude  pickup_latitude  \\\n",
       "0          4.5 2009-06-15 17:26:21+00:00        -73.844311        40.721319   \n",
       "1         16.9 2010-01-05 16:52:16+00:00        -74.016048        40.711303   \n",
       "2          5.7 2011-08-18 00:35:00+00:00        -73.982738        40.761270   \n",
       "3          7.7 2012-04-21 04:30:42+00:00        -73.987130        40.733143   \n",
       "4          5.3 2010-03-09 07:51:00+00:00        -73.968095        40.768008   \n",
       "5         12.1 2011-01-06 09:50:45+00:00        -74.000964        40.731630   \n",
       "6          7.5 2012-11-20 20:35:00+00:00        -73.980002        40.751662   \n",
       "7         16.5 2012-01-04 17:22:00+00:00        -73.951300        40.774138   \n",
       "8          NaN 2012-12-03 13:10:00+00:00        -74.006462        40.726713   \n",
       "9          8.9 2009-09-02 01:11:00+00:00        -73.980658        40.733873   \n",
       "\n",
       "   dropoff_longitude  dropoff_latitude  passenger_count  \n",
       "0         -73.841610         40.712278              1.0  \n",
       "1         -73.979268         40.782004              1.0  \n",
       "2         -73.991242         40.750562              2.0  \n",
       "3         -73.991567         40.758092              1.0  \n",
       "4         -73.956655         40.783762              1.0  \n",
       "5         -73.972892         40.758233              1.0  \n",
       "6         -73.973802         40.764842              1.0  \n",
       "7         -73.990095         40.751048              1.0  \n",
       "8         -73.993078         40.731628              1.0  \n",
       "9         -73.991540         40.758138              2.0  "
      ]
     },
     "execution_count": 5,
     "metadata": {},
     "output_type": "execute_result"
    }
   ],
   "source": [
    "A.head(10)"
   ]
  },
  {
   "cell_type": "code",
   "execution_count": 6,
   "metadata": {},
   "outputs": [
    {
     "data": {
      "text/html": [
       "<div>\n",
       "<style scoped>\n",
       "    .dataframe tbody tr th:only-of-type {\n",
       "        vertical-align: middle;\n",
       "    }\n",
       "\n",
       "    .dataframe tbody tr th {\n",
       "        vertical-align: top;\n",
       "    }\n",
       "\n",
       "    .dataframe thead th {\n",
       "        text-align: right;\n",
       "    }\n",
       "</style>\n",
       "<table border=\"1\" class=\"dataframe\">\n",
       "  <thead>\n",
       "    <tr style=\"text-align: right;\">\n",
       "      <th></th>\n",
       "      <th>pickup_datetime</th>\n",
       "      <th>pickup_longitude</th>\n",
       "      <th>pickup_latitude</th>\n",
       "      <th>dropoff_longitude</th>\n",
       "      <th>dropoff_latitude</th>\n",
       "      <th>passenger_count</th>\n",
       "    </tr>\n",
       "  </thead>\n",
       "  <tbody>\n",
       "    <tr>\n",
       "      <th>0</th>\n",
       "      <td>2015-01-27 13:08:24+00:00</td>\n",
       "      <td>-73.973320</td>\n",
       "      <td>40.763805</td>\n",
       "      <td>-73.981430</td>\n",
       "      <td>40.743835</td>\n",
       "      <td>1</td>\n",
       "    </tr>\n",
       "    <tr>\n",
       "      <th>1</th>\n",
       "      <td>2015-01-27 13:08:24+00:00</td>\n",
       "      <td>-73.986862</td>\n",
       "      <td>40.719383</td>\n",
       "      <td>-73.998886</td>\n",
       "      <td>40.739201</td>\n",
       "      <td>1</td>\n",
       "    </tr>\n",
       "    <tr>\n",
       "      <th>2</th>\n",
       "      <td>2011-10-08 11:53:44+00:00</td>\n",
       "      <td>-73.982524</td>\n",
       "      <td>40.751260</td>\n",
       "      <td>-73.979654</td>\n",
       "      <td>40.746139</td>\n",
       "      <td>1</td>\n",
       "    </tr>\n",
       "    <tr>\n",
       "      <th>3</th>\n",
       "      <td>2012-12-01 21:12:12+00:00</td>\n",
       "      <td>-73.981160</td>\n",
       "      <td>40.767807</td>\n",
       "      <td>-73.990448</td>\n",
       "      <td>40.751635</td>\n",
       "      <td>1</td>\n",
       "    </tr>\n",
       "    <tr>\n",
       "      <th>4</th>\n",
       "      <td>2012-12-01 21:12:12+00:00</td>\n",
       "      <td>-73.966046</td>\n",
       "      <td>40.789775</td>\n",
       "      <td>-73.988565</td>\n",
       "      <td>40.744427</td>\n",
       "      <td>1</td>\n",
       "    </tr>\n",
       "    <tr>\n",
       "      <th>5</th>\n",
       "      <td>2012-12-01 21:12:12+00:00</td>\n",
       "      <td>-73.960983</td>\n",
       "      <td>40.765547</td>\n",
       "      <td>-73.979177</td>\n",
       "      <td>40.740053</td>\n",
       "      <td>1</td>\n",
       "    </tr>\n",
       "    <tr>\n",
       "      <th>6</th>\n",
       "      <td>2011-10-06 12:10:20+00:00</td>\n",
       "      <td>-73.949013</td>\n",
       "      <td>40.773204</td>\n",
       "      <td>-73.959622</td>\n",
       "      <td>40.770893</td>\n",
       "      <td>1</td>\n",
       "    </tr>\n",
       "    <tr>\n",
       "      <th>7</th>\n",
       "      <td>2011-10-06 12:10:20+00:00</td>\n",
       "      <td>-73.777282</td>\n",
       "      <td>40.646636</td>\n",
       "      <td>-73.985083</td>\n",
       "      <td>40.759368</td>\n",
       "      <td>1</td>\n",
       "    </tr>\n",
       "    <tr>\n",
       "      <th>8</th>\n",
       "      <td>2011-10-06 12:10:20+00:00</td>\n",
       "      <td>-74.014099</td>\n",
       "      <td>40.709638</td>\n",
       "      <td>-73.995106</td>\n",
       "      <td>40.741365</td>\n",
       "      <td>1</td>\n",
       "    </tr>\n",
       "    <tr>\n",
       "      <th>9</th>\n",
       "      <td>2014-02-18 15:22:20+00:00</td>\n",
       "      <td>-73.969582</td>\n",
       "      <td>40.765519</td>\n",
       "      <td>-73.980686</td>\n",
       "      <td>40.770725</td>\n",
       "      <td>1</td>\n",
       "    </tr>\n",
       "  </tbody>\n",
       "</table>\n",
       "</div>"
      ],
      "text/plain": [
       "            pickup_datetime  pickup_longitude  pickup_latitude  \\\n",
       "0 2015-01-27 13:08:24+00:00        -73.973320        40.763805   \n",
       "1 2015-01-27 13:08:24+00:00        -73.986862        40.719383   \n",
       "2 2011-10-08 11:53:44+00:00        -73.982524        40.751260   \n",
       "3 2012-12-01 21:12:12+00:00        -73.981160        40.767807   \n",
       "4 2012-12-01 21:12:12+00:00        -73.966046        40.789775   \n",
       "5 2012-12-01 21:12:12+00:00        -73.960983        40.765547   \n",
       "6 2011-10-06 12:10:20+00:00        -73.949013        40.773204   \n",
       "7 2011-10-06 12:10:20+00:00        -73.777282        40.646636   \n",
       "8 2011-10-06 12:10:20+00:00        -74.014099        40.709638   \n",
       "9 2014-02-18 15:22:20+00:00        -73.969582        40.765519   \n",
       "\n",
       "   dropoff_longitude  dropoff_latitude  passenger_count  \n",
       "0         -73.981430         40.743835                1  \n",
       "1         -73.998886         40.739201                1  \n",
       "2         -73.979654         40.746139                1  \n",
       "3         -73.990448         40.751635                1  \n",
       "4         -73.988565         40.744427                1  \n",
       "5         -73.979177         40.740053                1  \n",
       "6         -73.959622         40.770893                1  \n",
       "7         -73.985083         40.759368                1  \n",
       "8         -73.995106         40.741365                1  \n",
       "9         -73.980686         40.770725                1  "
      ]
     },
     "execution_count": 6,
     "metadata": {},
     "output_type": "execute_result"
    }
   ],
   "source": [
    "B.head(10)"
   ]
  },
  {
   "cell_type": "code",
   "execution_count": 8,
   "metadata": {},
   "outputs": [
    {
     "data": {
      "text/html": [
       "<div>\n",
       "<style scoped>\n",
       "    .dataframe tbody tr th:only-of-type {\n",
       "        vertical-align: middle;\n",
       "    }\n",
       "\n",
       "    .dataframe tbody tr th {\n",
       "        vertical-align: top;\n",
       "    }\n",
       "\n",
       "    .dataframe thead th {\n",
       "        text-align: right;\n",
       "    }\n",
       "</style>\n",
       "<table border=\"1\" class=\"dataframe\">\n",
       "  <thead>\n",
       "    <tr style=\"text-align: right;\">\n",
       "      <th></th>\n",
       "      <th>fare_amount</th>\n",
       "      <th>pickup_longitude</th>\n",
       "      <th>pickup_latitude</th>\n",
       "      <th>dropoff_longitude</th>\n",
       "      <th>dropoff_latitude</th>\n",
       "      <th>passenger_count</th>\n",
       "    </tr>\n",
       "  </thead>\n",
       "  <tbody>\n",
       "    <tr>\n",
       "      <th>count</th>\n",
       "      <td>16042.000000</td>\n",
       "      <td>16067.000000</td>\n",
       "      <td>16067.000000</td>\n",
       "      <td>16067.000000</td>\n",
       "      <td>16067.000000</td>\n",
       "      <td>16012.000000</td>\n",
       "    </tr>\n",
       "    <tr>\n",
       "      <th>mean</th>\n",
       "      <td>15.015004</td>\n",
       "      <td>-72.462787</td>\n",
       "      <td>39.914725</td>\n",
       "      <td>-72.462328</td>\n",
       "      <td>39.897906</td>\n",
       "      <td>2.625070</td>\n",
       "    </tr>\n",
       "    <tr>\n",
       "      <th>std</th>\n",
       "      <td>430.460945</td>\n",
       "      <td>10.578384</td>\n",
       "      <td>6.826587</td>\n",
       "      <td>10.575062</td>\n",
       "      <td>6.187087</td>\n",
       "      <td>60.844122</td>\n",
       "    </tr>\n",
       "    <tr>\n",
       "      <th>min</th>\n",
       "      <td>-3.000000</td>\n",
       "      <td>-74.438233</td>\n",
       "      <td>-74.006893</td>\n",
       "      <td>-74.429332</td>\n",
       "      <td>-74.006377</td>\n",
       "      <td>0.000000</td>\n",
       "    </tr>\n",
       "    <tr>\n",
       "      <th>25%</th>\n",
       "      <td>6.000000</td>\n",
       "      <td>-73.992156</td>\n",
       "      <td>40.734927</td>\n",
       "      <td>-73.991182</td>\n",
       "      <td>40.734651</td>\n",
       "      <td>1.000000</td>\n",
       "    </tr>\n",
       "    <tr>\n",
       "      <th>50%</th>\n",
       "      <td>8.500000</td>\n",
       "      <td>-73.981698</td>\n",
       "      <td>40.752603</td>\n",
       "      <td>-73.980172</td>\n",
       "      <td>40.753567</td>\n",
       "      <td>1.000000</td>\n",
       "    </tr>\n",
       "    <tr>\n",
       "      <th>75%</th>\n",
       "      <td>12.500000</td>\n",
       "      <td>-73.966838</td>\n",
       "      <td>40.767381</td>\n",
       "      <td>-73.963643</td>\n",
       "      <td>40.768013</td>\n",
       "      <td>2.000000</td>\n",
       "    </tr>\n",
       "    <tr>\n",
       "      <th>max</th>\n",
       "      <td>54343.000000</td>\n",
       "      <td>40.766125</td>\n",
       "      <td>401.083332</td>\n",
       "      <td>40.802437</td>\n",
       "      <td>41.366138</td>\n",
       "      <td>5345.000000</td>\n",
       "    </tr>\n",
       "  </tbody>\n",
       "</table>\n",
       "</div>"
      ],
      "text/plain": [
       "        fare_amount  pickup_longitude  pickup_latitude  dropoff_longitude  \\\n",
       "count  16042.000000      16067.000000     16067.000000       16067.000000   \n",
       "mean      15.015004        -72.462787        39.914725         -72.462328   \n",
       "std      430.460945         10.578384         6.826587          10.575062   \n",
       "min       -3.000000        -74.438233       -74.006893         -74.429332   \n",
       "25%        6.000000        -73.992156        40.734927         -73.991182   \n",
       "50%        8.500000        -73.981698        40.752603         -73.980172   \n",
       "75%       12.500000        -73.966838        40.767381         -73.963643   \n",
       "max    54343.000000         40.766125       401.083332          40.802437   \n",
       "\n",
       "       dropoff_latitude  passenger_count  \n",
       "count      16067.000000     16012.000000  \n",
       "mean          39.897906         2.625070  \n",
       "std            6.187087        60.844122  \n",
       "min          -74.006377         0.000000  \n",
       "25%           40.734651         1.000000  \n",
       "50%           40.753567         1.000000  \n",
       "75%           40.768013         2.000000  \n",
       "max           41.366138      5345.000000  "
      ]
     },
     "execution_count": 8,
     "metadata": {},
     "output_type": "execute_result"
    }
   ],
   "source": [
    "A.describe()"
   ]
  },
  {
   "cell_type": "code",
   "execution_count": 9,
   "metadata": {},
   "outputs": [
    {
     "data": {
      "text/html": [
       "<div>\n",
       "<style scoped>\n",
       "    .dataframe tbody tr th:only-of-type {\n",
       "        vertical-align: middle;\n",
       "    }\n",
       "\n",
       "    .dataframe tbody tr th {\n",
       "        vertical-align: top;\n",
       "    }\n",
       "\n",
       "    .dataframe thead th {\n",
       "        text-align: right;\n",
       "    }\n",
       "</style>\n",
       "<table border=\"1\" class=\"dataframe\">\n",
       "  <thead>\n",
       "    <tr style=\"text-align: right;\">\n",
       "      <th></th>\n",
       "      <th>pickup_longitude</th>\n",
       "      <th>pickup_latitude</th>\n",
       "      <th>dropoff_longitude</th>\n",
       "      <th>dropoff_latitude</th>\n",
       "      <th>passenger_count</th>\n",
       "    </tr>\n",
       "  </thead>\n",
       "  <tbody>\n",
       "    <tr>\n",
       "      <th>count</th>\n",
       "      <td>9914.000000</td>\n",
       "      <td>9914.000000</td>\n",
       "      <td>9914.000000</td>\n",
       "      <td>9914.000000</td>\n",
       "      <td>9914.000000</td>\n",
       "    </tr>\n",
       "    <tr>\n",
       "      <th>mean</th>\n",
       "      <td>-73.974722</td>\n",
       "      <td>40.751041</td>\n",
       "      <td>-73.973657</td>\n",
       "      <td>40.751743</td>\n",
       "      <td>1.671273</td>\n",
       "    </tr>\n",
       "    <tr>\n",
       "      <th>std</th>\n",
       "      <td>0.042774</td>\n",
       "      <td>0.033541</td>\n",
       "      <td>0.039072</td>\n",
       "      <td>0.035435</td>\n",
       "      <td>1.278747</td>\n",
       "    </tr>\n",
       "    <tr>\n",
       "      <th>min</th>\n",
       "      <td>-74.252193</td>\n",
       "      <td>40.573143</td>\n",
       "      <td>-74.263242</td>\n",
       "      <td>40.568973</td>\n",
       "      <td>1.000000</td>\n",
       "    </tr>\n",
       "    <tr>\n",
       "      <th>25%</th>\n",
       "      <td>-73.992501</td>\n",
       "      <td>40.736125</td>\n",
       "      <td>-73.991247</td>\n",
       "      <td>40.735254</td>\n",
       "      <td>1.000000</td>\n",
       "    </tr>\n",
       "    <tr>\n",
       "      <th>50%</th>\n",
       "      <td>-73.982326</td>\n",
       "      <td>40.753051</td>\n",
       "      <td>-73.980015</td>\n",
       "      <td>40.754065</td>\n",
       "      <td>1.000000</td>\n",
       "    </tr>\n",
       "    <tr>\n",
       "      <th>75%</th>\n",
       "      <td>-73.968013</td>\n",
       "      <td>40.767113</td>\n",
       "      <td>-73.964059</td>\n",
       "      <td>40.768757</td>\n",
       "      <td>2.000000</td>\n",
       "    </tr>\n",
       "    <tr>\n",
       "      <th>max</th>\n",
       "      <td>-72.986532</td>\n",
       "      <td>41.709555</td>\n",
       "      <td>-72.990963</td>\n",
       "      <td>41.696683</td>\n",
       "      <td>6.000000</td>\n",
       "    </tr>\n",
       "  </tbody>\n",
       "</table>\n",
       "</div>"
      ],
      "text/plain": [
       "       pickup_longitude  pickup_latitude  dropoff_longitude  dropoff_latitude  \\\n",
       "count       9914.000000      9914.000000        9914.000000       9914.000000   \n",
       "mean         -73.974722        40.751041         -73.973657         40.751743   \n",
       "std            0.042774         0.033541           0.039072          0.035435   \n",
       "min          -74.252193        40.573143         -74.263242         40.568973   \n",
       "25%          -73.992501        40.736125         -73.991247         40.735254   \n",
       "50%          -73.982326        40.753051         -73.980015         40.754065   \n",
       "75%          -73.968013        40.767113         -73.964059         40.768757   \n",
       "max          -72.986532        41.709555         -72.990963         41.696683   \n",
       "\n",
       "       passenger_count  \n",
       "count      9914.000000  \n",
       "mean          1.671273  \n",
       "std           1.278747  \n",
       "min           1.000000  \n",
       "25%           1.000000  \n",
       "50%           1.000000  \n",
       "75%           2.000000  \n",
       "max           6.000000  "
      ]
     },
     "execution_count": 9,
     "metadata": {},
     "output_type": "execute_result"
    }
   ],
   "source": [
    "B.describe()"
   ]
  },
  {
   "cell_type": "code",
   "execution_count": 10,
   "metadata": {},
   "outputs": [
    {
     "name": "stdout",
     "output_type": "stream",
     "text": [
      "<class 'pandas.core.frame.DataFrame'>\n",
      "RangeIndex: 16067 entries, 0 to 16066\n",
      "Data columns (total 7 columns):\n",
      "fare_amount          16042 non-null float64\n",
      "pickup_datetime      16066 non-null datetime64[ns, UTC]\n",
      "pickup_longitude     16067 non-null float64\n",
      "pickup_latitude      16067 non-null float64\n",
      "dropoff_longitude    16067 non-null float64\n",
      "dropoff_latitude     16067 non-null float64\n",
      "passenger_count      16012 non-null float64\n",
      "dtypes: datetime64[ns, UTC](1), float64(6)\n",
      "memory usage: 878.7 KB\n",
      "<class 'pandas.core.frame.DataFrame'>\n",
      "RangeIndex: 9914 entries, 0 to 9913\n",
      "Data columns (total 6 columns):\n",
      "pickup_datetime      9914 non-null datetime64[ns, UTC]\n",
      "pickup_longitude     9914 non-null float64\n",
      "pickup_latitude      9914 non-null float64\n",
      "dropoff_longitude    9914 non-null float64\n",
      "dropoff_latitude     9914 non-null float64\n",
      "passenger_count      9914 non-null int64\n",
      "dtypes: datetime64[ns, UTC](1), float64(4), int64(1)\n",
      "memory usage: 464.8 KB\n"
     ]
    },
    {
     "data": {
      "text/plain": [
       "(None, None)"
      ]
     },
     "execution_count": 10,
     "metadata": {},
     "output_type": "execute_result"
    }
   ],
   "source": [
    "# getting the details about the data sets.\n",
    "A.info(), B.info()"
   ]
  },
  {
   "cell_type": "code",
   "execution_count": 11,
   "metadata": {},
   "outputs": [
    {
     "data": {
      "text/plain": [
       "(1.00       11259\n",
       " 2.00        2322\n",
       " 5.00        1045\n",
       " 3.00         676\n",
       " 4.00         329\n",
       " 6.00         302\n",
       " 0.00          57\n",
       " 43.00          2\n",
       " 53.00          2\n",
       " 0.12           1\n",
       " 1.30           1\n",
       " 531.20         1\n",
       " 345.00         1\n",
       " 456.00         1\n",
       " 87.00          1\n",
       " 55.00          1\n",
       " 58.00          1\n",
       " 236.00         1\n",
       " 535.00         1\n",
       " 536.00         1\n",
       " 537.00         1\n",
       " 554.00         1\n",
       " 5334.00        1\n",
       " 35.00          1\n",
       " 5345.00        1\n",
       " 557.00         1\n",
       " 354.00         1\n",
       " Name: passenger_count, dtype: int64, 1    6914\n",
       " 2    1474\n",
       " 5     696\n",
       " 3     447\n",
       " 4     206\n",
       " 6     177\n",
       " Name: passenger_count, dtype: int64)"
      ]
     },
     "execution_count": 11,
     "metadata": {},
     "output_type": "execute_result"
    }
   ],
   "source": [
    "# Data cleaning.\n",
    "A['passenger_count'].value_counts(),B['passenger_count'].value_counts()"
   ]
  },
  {
   "cell_type": "code",
   "execution_count": 7,
   "metadata": {},
   "outputs": [
    {
     "data": {
      "text/plain": [
       "1015     54343.00\n",
       "1072      4343.00\n",
       "607        453.00\n",
       "980        434.00\n",
       "1335       180.00\n",
       "1483       165.00\n",
       "6630       128.83\n",
       "14142      108.00\n",
       "12349      104.67\n",
       "12915       96.00\n",
       "7810        95.00\n",
       "9431        88.00\n",
       "10077       87.30\n",
       "12614       87.00\n",
       "4620        85.50\n",
       "14519       82.50\n",
       "12437       80.75\n",
       "2639        79.00\n",
       "4013        77.70\n",
       "13962       77.15\n",
       "2013        77.00\n",
       "6668        76.80\n",
       "8363        76.00\n",
       "10524       75.80\n",
       "11019       75.33\n",
       "13615       75.00\n",
       "15023       73.30\n",
       "1494        70.00\n",
       "4118        69.70\n",
       "649         66.30\n",
       "           ...   \n",
       "2780         0.01\n",
       "10002        0.00\n",
       "2486        -2.50\n",
       "2039        -2.90\n",
       "13032       -3.00\n",
       "8             NaN\n",
       "26            NaN\n",
       "69            NaN\n",
       "126           NaN\n",
       "168           NaN\n",
       "240           NaN\n",
       "305           NaN\n",
       "350           NaN\n",
       "413           NaN\n",
       "455           NaN\n",
       "498           NaN\n",
       "667           NaN\n",
       "703           NaN\n",
       "746           NaN\n",
       "836           NaN\n",
       "840           NaN\n",
       "913           NaN\n",
       "1123          NaN\n",
       "1574          NaN\n",
       "1628          NaN\n",
       "1712          NaN\n",
       "2412          NaN\n",
       "2458          NaN\n",
       "8178          NaN\n",
       "8226          NaN\n",
       "Name: fare_amount, Length: 16067, dtype: float64"
      ]
     },
     "execution_count": 7,
     "metadata": {},
     "output_type": "execute_result"
    }
   ],
   "source": [
    "A['fare_amount'].sort_values(ascending=False)"
   ]
  },
  {
   "cell_type": "code",
   "execution_count": 9,
   "metadata": {},
   "outputs": [
    {
     "data": {
      "text/plain": [
       "2"
      ]
     },
     "execution_count": 9,
     "metadata": {},
     "output_type": "execute_result"
    }
   ],
   "source": [
    "sum(A['fare_amount']>453) # considring the fare amount above 543 as outlier dropping out the observation."
   ]
  },
  {
   "cell_type": "code",
   "execution_count": 12,
   "metadata": {},
   "outputs": [
    {
     "data": {
      "text/plain": [
       "1"
      ]
     },
     "execution_count": 12,
     "metadata": {},
     "output_type": "execute_result"
    }
   ],
   "source": [
    "sum(A['fare_amount']==0) # at the same time fare amount cannot be 0."
   ]
  },
  {
   "cell_type": "code",
   "execution_count": 12,
   "metadata": {},
   "outputs": [
    {
     "data": {
      "text/plain": [
       "(5, 20, 58)"
      ]
     },
     "execution_count": 12,
     "metadata": {},
     "output_type": "execute_result"
    }
   ],
   "source": [
    "# fare amount cannot be less than 1,the passenger count maxiumum is 6 if considring an SUV,passengr count cannot be less than one.\n",
    "sum(A['fare_amount']<1),sum(A['passenger_count']>6),sum(A['passenger_count']<1) # so filtering out those observation which satisfies the above condition."
   ]
  },
  {
   "cell_type": "code",
   "execution_count": 14,
   "metadata": {},
   "outputs": [
    {
     "data": {
      "text/plain": [
       "(       fare_amount           pickup_datetime  pickup_longitude  \\\n",
       " 2039         -2.90 2010-03-09 23:37:10+00:00        -73.789450   \n",
       " 2486         -2.50 2015-03-22 05:14:27+00:00        -74.000031   \n",
       " 2780          0.01 2015-05-01 15:38:41+00:00        -73.939041   \n",
       " 10002         0.00 2010-02-15 14:26:01+00:00        -73.987115   \n",
       " 13032        -3.00 2013-08-30 08:57:10+00:00        -73.995062   \n",
       " \n",
       "        pickup_latitude  dropoff_longitude  dropoff_latitude  passenger_count  \n",
       " 2039         40.643498         -73.788665         40.641952              1.0  \n",
       " 2486         40.720631         -73.999809         40.720539              1.0  \n",
       " 2780         40.713963         -73.941673         40.713997              1.0  \n",
       " 10002        40.738808         -74.005911         40.713960              1.0  \n",
       " 13032        40.740755         -73.995885         40.741357              4.0  ,\n",
       "       fare_amount           pickup_datetime  pickup_longitude  \\\n",
       " 233           8.5 2011-07-24 01:14:35+00:00          0.000000   \n",
       " 263           4.9 2010-07-12 09:44:33+00:00        -73.983249   \n",
       " 293           6.1 2011-01-18 23:48:00+00:00        -74.006642   \n",
       " 356           8.5 2013-06-18 10:27:05+00:00        -73.992108   \n",
       " 386           8.1 2009-08-21 19:35:05+00:00        -73.960853   \n",
       " 413           NaN 2013-09-12 11:32:00+00:00        -73.982060   \n",
       " 971          10.1 2010-11-21 01:41:00+00:00        -74.004500   \n",
       " 1007          3.7 2010-12-14 14:46:00+00:00        -73.969157   \n",
       " 1043          5.7 2012-08-22 22:08:29+00:00        -73.973573   \n",
       " 1107          4.9 2009-08-08 21:50:50+00:00        -73.988977   \n",
       " 1146          8.0 2014-03-27 08:05:01+00:00        -73.991098   \n",
       " 1200          9.7 2011-08-16 09:29:00+00:00        -73.980487   \n",
       " 1242          5.3 2011-10-16 00:22:00+00:00        -73.981095   \n",
       " 8406          6.9 2010-08-25 11:41:00+00:00          0.000000   \n",
       " 8445          5.7 2009-03-28 22:00:00+00:00        -73.982413   \n",
       " 8506         11.3 2010-05-23 20:06:37+00:00        -73.985424   \n",
       " 8571         12.5 2011-12-03 03:21:00+00:00        -73.993718   \n",
       " 8631         20.0 2012-12-10 22:28:00+00:00        -73.955445   \n",
       " 8715          4.5 2009-09-04 09:14:03+00:00        -73.977518   \n",
       " 8985          8.5 2015-01-14 15:10:21+00:00        -73.955444   \n",
       " \n",
       "       pickup_latitude  dropoff_longitude  dropoff_latitude  passenger_count  \n",
       " 233          0.000000           0.000000          0.000000            236.0  \n",
       " 263         40.734655         -73.991278         40.738918            456.0  \n",
       " 293         40.738927         -74.010828         40.717907           5334.0  \n",
       " 356         40.764203         -73.973000         40.762695            535.0  \n",
       " 386         40.761557         -73.976335         40.748361            354.0  \n",
       " 413         40.772705         -73.956213         40.771777             55.0  \n",
       " 971         40.742143         -73.994330         40.720412            554.0  \n",
       " 1007        40.759000         -73.968763         40.764617             53.0  \n",
       " 1043        40.760184         -73.953564         40.767392             35.0  \n",
       " 1107        40.721068         -73.982368         40.732064            345.0  \n",
       " 1146        40.770655         -73.976933         40.790070           5345.0  \n",
       " 1200        40.741610         -73.980617         40.746868            536.0  \n",
       " 1242        40.738160         -73.990587         40.740105             43.0  \n",
       " 8406         0.000000           0.000000          0.000000             53.0  \n",
       " 8445        40.751320         -73.971292         40.748502             58.0  \n",
       " 8506        40.738468         -74.001698         40.707758            537.0  \n",
       " 8571        40.762039         -73.977527         40.734024             87.0  \n",
       " 8631        40.670232         -74.004795         40.731477             43.0  \n",
       " 8715        40.758480         -73.983252         40.749837            531.2  \n",
       " 8985        40.787605         -73.965561         40.798691            557.0  ,\n",
       "        fare_amount           pickup_datetime  pickup_longitude  \\\n",
       " 314           34.0 2015-06-02 23:16:15+00:00        -73.974899   \n",
       " 566            4.9 2012-01-28 21:33:18+00:00        -73.955322   \n",
       " 678            6.5 2012-02-27 07:24:20+00:00        -73.983397   \n",
       " 1160          13.3 2011-05-25 23:58:48+00:00        -73.998360   \n",
       " 1935          10.1 2011-10-23 11:09:28+00:00        -73.971400   \n",
       " 2200           8.1 2011-05-23 16:54:19+00:00        -73.988008   \n",
       " 2425           8.9 2011-11-25 22:47:33+00:00        -73.999900   \n",
       " 3034           5.7 2011-03-06 12:03:14+00:00        -73.986557   \n",
       " 3413           7.3 2011-02-28 06:39:16+00:00        -73.973413   \n",
       " 3481          11.3 2011-11-30 17:23:02+00:00        -73.968100   \n",
       " 3489           7.3 2011-10-18 08:18:18+00:00        -73.966100   \n",
       " 3599           8.9 2011-03-06 18:24:50+00:00        -73.982657   \n",
       " 4114           4.5 2011-07-22 05:51:00+00:00        -73.975500   \n",
       " 4248           4.1 2012-02-15 11:19:50+00:00        -73.982112   \n",
       " 4344          24.9 2011-05-19 13:28:17+00:00        -73.789230   \n",
       " 4354           5.3 2012-01-15 12:06:43+00:00        -73.964400   \n",
       " 5058          12.9 2011-11-05 18:29:30+00:00        -74.008900   \n",
       " 5150           7.7 2011-11-07 22:07:24+00:00        -73.984900   \n",
       " 5161          11.3 2011-12-20 06:59:57+00:00        -73.983700   \n",
       " 5277           6.1 2012-04-12 09:35:22+00:00        -73.967003   \n",
       " 5517           3.3 2012-07-02 16:11:55+00:00        -74.007110   \n",
       " 5557          27.3 2011-02-08 13:31:18+00:00        -73.873318   \n",
       " 5688           4.9 2011-09-07 21:50:40+00:00        -73.986700   \n",
       " 5914           8.5 2011-12-19 22:44:42+00:00        -73.982000   \n",
       " 6036           7.7 2011-02-26 12:41:03+00:00        -73.976715   \n",
       " 6575           4.5 2012-04-19 19:44:48+00:00        -73.964598   \n",
       " 6713          10.5 2012-03-06 15:35:37+00:00        -73.965115   \n",
       " 6881           5.7 2011-06-14 10:12:16+00:00        -73.959000   \n",
       " 7279          10.9 2012-04-18 18:44:15+00:00        -73.982930   \n",
       " 7520           6.9 2011-06-08 13:11:10+00:00        -73.975100   \n",
       " 7640          10.9 2012-01-21 16:17:50+00:00        -73.999505   \n",
       " 7909           6.9 2011-03-12 17:03:23+00:00        -73.974793   \n",
       " 8321           7.3 2012-02-25 19:19:41+00:00        -74.003725   \n",
       " 8661           8.1 2012-01-13 13:47:57+00:00        -73.999700   \n",
       " 8862          11.5 2013-05-17 07:15:00+00:00        -73.969835   \n",
       " 8916           2.5 2011-09-13 18:45:31+00:00        -73.783300   \n",
       " 8971           7.7 2011-10-22 20:50:34+00:00        -73.998600   \n",
       " 9159           3.3 2011-06-04 10:38:47+00:00        -73.987300   \n",
       " 9965           9.3 2012-01-04 22:04:14+00:00        -73.971000   \n",
       " 10642         10.1 2012-03-10 18:21:16+00:00        -73.972272   \n",
       " 10663         18.1 2011-05-06 13:38:48+00:00        -73.973818   \n",
       " 10711          6.5 2012-03-31 20:16:01+00:00        -74.004323   \n",
       " 11462         15.7 2011-10-20 23:09:45+00:00        -73.994800   \n",
       " 11803         12.1 2011-06-21 08:58:36+00:00        -73.999000   \n",
       " 12216          5.7 2012-03-27 16:06:09+00:00        -73.982017   \n",
       " 12611          8.1 2011-07-22 23:13:58+00:00        -73.978000   \n",
       " 13029          4.5 2012-02-01 21:18:24+00:00        -73.982117   \n",
       " 13227         10.9 2011-04-22 18:13:12+00:00        -73.999512   \n",
       " 13379          7.3 2012-03-14 07:20:10+00:00        -73.964512   \n",
       " 13714          4.1 2011-12-15 07:05:33+00:00        -73.979400   \n",
       " 13742         21.7 2011-04-29 12:51:14+00:00        -74.009472   \n",
       " 14196          8.1 2011-10-06 23:31:04+00:00        -73.999400   \n",
       " 14308          8.1 2011-11-11 12:03:38+00:00          0.000000   \n",
       " 14872          3.3 2011-03-02 19:25:46+00:00        -73.948553   \n",
       " 15286          4.9 2012-03-20 22:23:34+00:00        -73.971808   \n",
       " 15514          6.5 2012-02-12 02:03:50+00:00        -73.999342   \n",
       " 15554          6.5 2011-08-03 08:31:19+00:00        -73.991700   \n",
       " 15919         16.5 2011-10-17 08:58:54+00:00          0.000000   \n",
       " \n",
       "        pickup_latitude  dropoff_longitude  dropoff_latitude  passenger_count  \n",
       " 314          40.751095         -73.908546         40.881878             0.00  \n",
       " 566          40.782840         -73.955797         40.773673             0.00  \n",
       " 678          40.738183         -73.971395         40.758023             0.00  \n",
       " 1160         40.740348         -73.946455         40.777348             0.00  \n",
       " 1935         40.795000         -73.967900         40.768600             0.00  \n",
       " 2200         40.748303         -74.005185         40.738733             0.00  \n",
       " 2425         40.738600         -73.971800         40.746300             0.00  \n",
       " 3034         40.745783         -73.994545         40.729995             0.00  \n",
       " 3413         40.743708         -73.985220         40.741583             0.00  \n",
       " 3481         40.762500         -73.984400         40.760900             0.00  \n",
       " 3489         40.794500         -73.960300         40.779800             0.00  \n",
       " 3599         40.746145         -74.005580         40.724402             0.00  \n",
       " 4114         40.760800         -73.990200         40.760000             0.00  \n",
       " 4248         40.721073         -73.992240         40.725313             0.00  \n",
       " 4344         40.646622         -73.725032         40.614140             0.00  \n",
       " 4354         40.767500         -73.981600         40.774000             0.00  \n",
       " 5058         40.709400         -73.985400         40.756200             0.00  \n",
       " 5150         40.675300         -74.010400         40.655200             0.00  \n",
       " 5161         40.775800         -73.985300         40.741300             0.00  \n",
       " 5277         40.772417         -73.968860         40.761147             0.00  \n",
       " 5517         40.743862         -74.003337         40.748877             0.00  \n",
       " 5557         40.773948         -74.010205         40.711158             0.00  \n",
       " 5688         40.761300         -73.982300         40.773900             0.00  \n",
       " 5914         40.755900         -73.955600         40.769600             0.00  \n",
       " 6036         40.775708         -73.972785         40.764467             0.00  \n",
       " 6575         40.807213         -73.970875         40.797955             0.00  \n",
       " 6713         40.766463         -73.997523         40.744878             0.00  \n",
       " 6881         40.781000         -73.950300         40.775400             0.00  \n",
       " 7279         40.722645         -73.971108         40.760172             0.00  \n",
       " 7520         40.755200         -73.980000         40.765900             0.00  \n",
       " 7640         40.725002         -73.973262         40.763290             0.00  \n",
       " 7909         40.759865         -73.955718         40.772732             0.00  \n",
       " 8321         40.742108         -73.988270         40.759308             0.00  \n",
       " 8661         40.721800         -74.005600         40.741100             0.00  \n",
       " 8862         40.753017         -73.998580         40.712927             0.12  \n",
       " 8916         40.648600         -73.783300         40.648600             0.00  \n",
       " 8971         40.761000         -73.977900         40.777200             0.00  \n",
       " 9159         40.729200         -73.994000         40.732100             0.00  \n",
       " 9965         40.754900         -74.004500         40.736100             0.00  \n",
       " 10642        40.754037         -73.994090         40.734440             0.00  \n",
       " 10663        40.789362         -73.942252         40.754120             0.00  \n",
       " 10711        40.724073         -74.006453         40.738420             0.00  \n",
       " 11462        40.750400         -73.959200         40.710600             0.00  \n",
       " 11803        40.724800         -73.980600         40.754900             0.00  \n",
       " 12216        40.756338         -73.980987         40.745442             0.00  \n",
       " 12611        40.752300         -73.991800         40.763900             0.00  \n",
       " 13029        40.770408         -73.980057         40.762155             0.00  \n",
       " 13227        40.722078         -73.989495         40.747422             0.00  \n",
       " 13379        40.771577         -73.945595         40.778032             0.00  \n",
       " 13714        40.731100         -73.981500         40.724800             0.00  \n",
       " 13742        40.702140         -73.959185         40.783245             0.00  \n",
       " 14196        40.743800         -73.990400         40.724800             0.00  \n",
       " 14308         0.000000         -73.990000         40.755400             0.00  \n",
       " 14872        40.773972         -73.945098         40.778413             0.00  \n",
       " 15286        40.760143         -73.962027         40.767677             0.00  \n",
       " 15514        40.718872         -73.984112         40.725242             0.00  \n",
       " 15554        40.750100         -73.981000         40.750900             0.00  \n",
       " 15919         0.000000         -73.999700         40.734500             0.00  ,\n",
       "       fare_amount           pickup_datetime  pickup_longitude  \\\n",
       " 1015      54343.0 2015-02-27 17:03:50+00:00        -74.003319   \n",
       " 1072       4343.0 2012-01-15 20:42:04+00:00        -73.976309   \n",
       " \n",
       "       pickup_latitude  dropoff_longitude  dropoff_latitude  passenger_count  \n",
       " 1015        40.727455         -73.964470         40.764378              1.0  \n",
       " 1072        40.751634         -74.014854         40.709044              1.0  )"
      ]
     },
     "execution_count": 14,
     "metadata": {},
     "output_type": "execute_result"
    }
   ],
   "source": [
    "# the filtered observation which are not wanting.\n",
    "A[A['fare_amount']<1],A[A['passenger_count']>6],A[A['passenger_count']<1],A[A['fare_amount']>453]"
   ]
  },
  {
   "cell_type": "code",
   "execution_count": 13,
   "metadata": {},
   "outputs": [
    {
     "name": "stdout",
     "output_type": "stream",
     "text": [
      "pickup_longitude above 180=0\n",
      "pickup_longitude below -180=0\n",
      "pickup_latitude above 90=1\n",
      "pickup_latitude below -90=0\n",
      "dropoff_longitude above 180=0\n",
      "dropoff_longitude below -180=0\n",
      "dropoff_latitude below -90=0\n",
      "dropoff_latitude above 90=0\n"
     ]
    }
   ],
   "source": [
    "# Latitudes range from -90 to 90.Longitudes range from -180 to 180. Removing which does not satisfy these ranges\n",
    "print('pickup_longitude above 180={}'.format(sum(A['pickup_longitude']>180)))\n",
    "print('pickup_longitude below -180={}'.format(sum(A['pickup_longitude']<-180)))\n",
    "print('pickup_latitude above 90={}'.format(sum(A['pickup_latitude']>90)))\n",
    "print('pickup_latitude below -90={}'.format(sum(A['pickup_latitude']<-90)))\n",
    "print('dropoff_longitude above 180={}'.format(sum(A['dropoff_longitude']>180)))\n",
    "print('dropoff_longitude below -180={}'.format(sum(A['dropoff_longitude']<-180)))\n",
    "print('dropoff_latitude below -90={}'.format(sum(A['dropoff_latitude']<-90)))\n",
    "print('dropoff_latitude above 90={}'.format(sum(A['dropoff_latitude']>90)))"
   ]
  },
  {
   "cell_type": "code",
   "execution_count": 14,
   "metadata": {},
   "outputs": [
    {
     "name": "stdout",
     "output_type": "stream",
     "text": [
      "pickup_longitude equal to 0=315\n",
      "pickup_latitude equal to 0=315\n",
      "dropoff_longitude equal to 0=314\n",
      "dropoff_latitude equal to 0=312\n"
     ]
    }
   ],
   "source": [
    "# latitude and longitude cannot be comprised of ero value, so filtering up the values.\n",
    "for i in ['pickup_longitude','pickup_latitude','dropoff_longitude','dropoff_latitude']:\n",
    "    print(i,'equal to 0={}'.format(sum(A[i]==0)))"
   ]
  },
  {
   "cell_type": "code",
   "execution_count": 4,
   "metadata": {},
   "outputs": [],
   "source": [
    "# Data cleaning. # by above experiments we can say that most of the data is corrupted and we need to clean it.\n",
    "A=A.drop(A[A['fare_amount']<1].index,axis=0)\n",
    "A=A.drop(A[A['fare_amount']>453].index,axis=0)\n",
    "A=A.drop(A[A['passenger_count']>6].index,axis=0)\n",
    "A=A.drop(A[A['passenger_count']<1].index,axis=0)\n",
    "A=A.drop(A[A['pickup_latitude']>90].index,axis=0)\n",
    "for i in ['pickup_longitude','pickup_latitude','dropoff_longitude','dropoff_latitude']:\n",
    "    A=A.drop(A[A[i]==0].index,axis=0)\n",
    "\n"
   ]
  },
  {
   "cell_type": "code",
   "execution_count": null,
   "metadata": {},
   "outputs": [],
   "source": [
    "# after removing all the wrong data points."
   ]
  },
  {
   "cell_type": "code",
   "execution_count": 31,
   "metadata": {},
   "outputs": [
    {
     "data": {
      "text/plain": [
       "(0, 0, 0, 0)"
      ]
     },
     "execution_count": 31,
     "metadata": {},
     "output_type": "execute_result"
    }
   ],
   "source": [
    "# checking the data after cleaning.\n",
    "sum(A['fare_amount']<1),sum(A['passenger_count']>6),sum(A['passenger_count']<1),sum(A['fare_amount']>453)"
   ]
  },
  {
   "cell_type": "code",
   "execution_count": 17,
   "metadata": {},
   "outputs": [
    {
     "name": "stdout",
     "output_type": "stream",
     "text": [
      "pickup_longitude equal to 0=0\n",
      "pickup_latitude equal to 0=0\n",
      "dropoff_longitude equal to 0=0\n",
      "dropoff_latitude equal to 0=0\n"
     ]
    }
   ],
   "source": [
    "# checcking the data after cleaning.\n",
    "for i in ['pickup_longitude','pickup_latitude','dropoff_longitude','dropoff_latitude']:\n",
    "    print(i,'equal to 0={}'.format(sum(A[i]==0)))"
   ]
  },
  {
   "cell_type": "code",
   "execution_count": 17,
   "metadata": {},
   "outputs": [
    {
     "data": {
      "text/plain": [
       "(15659, 7)"
      ]
     },
     "execution_count": 17,
     "metadata": {},
     "output_type": "execute_result"
    }
   ],
   "source": [
    "# number of observations reduced from 16067 to 15659\n",
    "A.shape   # nearly dropped 408 observations."
   ]
  },
  {
   "cell_type": "code",
   "execution_count": 18,
   "metadata": {},
   "outputs": [
    {
     "name": "stdout",
     "output_type": "stream",
     "text": [
      "fare_amount          22\n",
      "pickup_datetime       1\n",
      "pickup_longitude      0\n",
      "pickup_latitude       0\n",
      "dropoff_longitude     0\n",
      "dropoff_latitude      0\n",
      "passenger_count      55\n",
      "dtype: int64\n",
      "pickup_datetime      0\n",
      "pickup_longitude     0\n",
      "pickup_latitude      0\n",
      "dropoff_longitude    0\n",
      "dropoff_latitude     0\n",
      "passenger_count      0\n",
      "dtype: int64\n"
     ]
    },
    {
     "data": {
      "text/plain": [
       "(None, None)"
      ]
     },
     "execution_count": 18,
     "metadata": {},
     "output_type": "execute_result"
    }
   ],
   "source": [
    "# FEATURE ENGINEERING = TRANSFORMING THE DATA READY FOR MODEL.()\n",
    "# checking for missing values.\n",
    "print(A.isnull().sum()),print(B.isnull().sum())"
   ]
  },
  {
   "cell_type": "code",
   "execution_count": 18,
   "metadata": {},
   "outputs": [
    {
     "data": {
      "text/html": [
       "<div>\n",
       "<style scoped>\n",
       "    .dataframe tbody tr th:only-of-type {\n",
       "        vertical-align: middle;\n",
       "    }\n",
       "\n",
       "    .dataframe tbody tr th {\n",
       "        vertical-align: top;\n",
       "    }\n",
       "\n",
       "    .dataframe thead th {\n",
       "        text-align: right;\n",
       "    }\n",
       "</style>\n",
       "<table border=\"1\" class=\"dataframe\">\n",
       "  <thead>\n",
       "    <tr style=\"text-align: right;\">\n",
       "      <th></th>\n",
       "      <th>index</th>\n",
       "      <th>0</th>\n",
       "    </tr>\n",
       "  </thead>\n",
       "  <tbody>\n",
       "    <tr>\n",
       "      <th>0</th>\n",
       "      <td>fare_amount</td>\n",
       "      <td>22</td>\n",
       "    </tr>\n",
       "    <tr>\n",
       "      <th>1</th>\n",
       "      <td>pickup_datetime</td>\n",
       "      <td>1</td>\n",
       "    </tr>\n",
       "    <tr>\n",
       "      <th>2</th>\n",
       "      <td>pickup_longitude</td>\n",
       "      <td>0</td>\n",
       "    </tr>\n",
       "    <tr>\n",
       "      <th>3</th>\n",
       "      <td>pickup_latitude</td>\n",
       "      <td>0</td>\n",
       "    </tr>\n",
       "    <tr>\n",
       "      <th>4</th>\n",
       "      <td>dropoff_longitude</td>\n",
       "      <td>0</td>\n",
       "    </tr>\n",
       "    <tr>\n",
       "      <th>5</th>\n",
       "      <td>dropoff_latitude</td>\n",
       "      <td>0</td>\n",
       "    </tr>\n",
       "    <tr>\n",
       "      <th>6</th>\n",
       "      <td>passenger_count</td>\n",
       "      <td>55</td>\n",
       "    </tr>\n",
       "  </tbody>\n",
       "</table>\n",
       "</div>"
      ],
      "text/plain": [
       "               index   0\n",
       "0        fare_amount  22\n",
       "1    pickup_datetime   1\n",
       "2   pickup_longitude   0\n",
       "3    pickup_latitude   0\n",
       "4  dropoff_longitude   0\n",
       "5   dropoff_latitude   0\n",
       "6    passenger_count  55"
      ]
     },
     "execution_count": 18,
     "metadata": {},
     "output_type": "execute_result"
    }
   ],
   "source": [
    "missing_val=pd.DataFrame(A.isnull().sum())\n",
    "missing_val=missing_val.reset_index()\n",
    "missing_val"
   ]
  },
  {
   "cell_type": "code",
   "execution_count": 19,
   "metadata": {},
   "outputs": [
    {
     "data": {
      "text/html": [
       "<div>\n",
       "<style scoped>\n",
       "    .dataframe tbody tr th:only-of-type {\n",
       "        vertical-align: middle;\n",
       "    }\n",
       "\n",
       "    .dataframe tbody tr th {\n",
       "        vertical-align: top;\n",
       "    }\n",
       "\n",
       "    .dataframe thead th {\n",
       "        text-align: right;\n",
       "    }\n",
       "</style>\n",
       "<table border=\"1\" class=\"dataframe\">\n",
       "  <thead>\n",
       "    <tr style=\"text-align: right;\">\n",
       "      <th></th>\n",
       "      <th>features</th>\n",
       "      <th>missing_percentage</th>\n",
       "    </tr>\n",
       "  </thead>\n",
       "  <tbody>\n",
       "    <tr>\n",
       "      <th>0</th>\n",
       "      <td>fare_amount</td>\n",
       "      <td>22</td>\n",
       "    </tr>\n",
       "    <tr>\n",
       "      <th>1</th>\n",
       "      <td>pickup_datetime</td>\n",
       "      <td>1</td>\n",
       "    </tr>\n",
       "    <tr>\n",
       "      <th>2</th>\n",
       "      <td>pickup_longitude</td>\n",
       "      <td>0</td>\n",
       "    </tr>\n",
       "    <tr>\n",
       "      <th>3</th>\n",
       "      <td>pickup_latitude</td>\n",
       "      <td>0</td>\n",
       "    </tr>\n",
       "    <tr>\n",
       "      <th>4</th>\n",
       "      <td>dropoff_longitude</td>\n",
       "      <td>0</td>\n",
       "    </tr>\n",
       "    <tr>\n",
       "      <th>5</th>\n",
       "      <td>dropoff_latitude</td>\n",
       "      <td>0</td>\n",
       "    </tr>\n",
       "    <tr>\n",
       "      <th>6</th>\n",
       "      <td>passenger_count</td>\n",
       "      <td>55</td>\n",
       "    </tr>\n",
       "  </tbody>\n",
       "</table>\n",
       "</div>"
      ],
      "text/plain": [
       "            features  missing_percentage\n",
       "0        fare_amount                  22\n",
       "1    pickup_datetime                   1\n",
       "2   pickup_longitude                   0\n",
       "3    pickup_latitude                   0\n",
       "4  dropoff_longitude                   0\n",
       "5   dropoff_latitude                   0\n",
       "6    passenger_count                  55"
      ]
     },
     "execution_count": 19,
     "metadata": {},
     "output_type": "execute_result"
    }
   ],
   "source": [
    "missing_val=missing_val.rename(columns={'index':'features',0:'missing_percentage'})\n",
    "missing_val"
   ]
  },
  {
   "cell_type": "code",
   "execution_count": 20,
   "metadata": {},
   "outputs": [
    {
     "data": {
      "text/html": [
       "<div>\n",
       "<style scoped>\n",
       "    .dataframe tbody tr th:only-of-type {\n",
       "        vertical-align: middle;\n",
       "    }\n",
       "\n",
       "    .dataframe tbody tr th {\n",
       "        vertical-align: top;\n",
       "    }\n",
       "\n",
       "    .dataframe thead th {\n",
       "        text-align: right;\n",
       "    }\n",
       "</style>\n",
       "<table border=\"1\" class=\"dataframe\">\n",
       "  <thead>\n",
       "    <tr style=\"text-align: right;\">\n",
       "      <th></th>\n",
       "      <th>features</th>\n",
       "      <th>missing_percentage</th>\n",
       "    </tr>\n",
       "  </thead>\n",
       "  <tbody>\n",
       "    <tr>\n",
       "      <th>0</th>\n",
       "      <td>fare_amount</td>\n",
       "      <td>0.001405</td>\n",
       "    </tr>\n",
       "    <tr>\n",
       "      <th>1</th>\n",
       "      <td>pickup_datetime</td>\n",
       "      <td>0.000064</td>\n",
       "    </tr>\n",
       "    <tr>\n",
       "      <th>2</th>\n",
       "      <td>pickup_longitude</td>\n",
       "      <td>0.000000</td>\n",
       "    </tr>\n",
       "    <tr>\n",
       "      <th>3</th>\n",
       "      <td>pickup_latitude</td>\n",
       "      <td>0.000000</td>\n",
       "    </tr>\n",
       "    <tr>\n",
       "      <th>4</th>\n",
       "      <td>dropoff_longitude</td>\n",
       "      <td>0.000000</td>\n",
       "    </tr>\n",
       "    <tr>\n",
       "      <th>5</th>\n",
       "      <td>dropoff_latitude</td>\n",
       "      <td>0.000000</td>\n",
       "    </tr>\n",
       "    <tr>\n",
       "      <th>6</th>\n",
       "      <td>passenger_count</td>\n",
       "      <td>0.003512</td>\n",
       "    </tr>\n",
       "  </tbody>\n",
       "</table>\n",
       "</div>"
      ],
      "text/plain": [
       "            features  missing_percentage\n",
       "0        fare_amount            0.001405\n",
       "1    pickup_datetime            0.000064\n",
       "2   pickup_longitude            0.000000\n",
       "3    pickup_latitude            0.000000\n",
       "4  dropoff_longitude            0.000000\n",
       "5   dropoff_latitude            0.000000\n",
       "6    passenger_count            0.003512"
      ]
     },
     "execution_count": 20,
     "metadata": {},
     "output_type": "execute_result"
    }
   ],
   "source": [
    "missing_val['missing_percentage']=(missing_val['missing_percentage']/len(A))\n",
    "missing_val"
   ]
  },
  {
   "cell_type": "code",
   "execution_count": 21,
   "metadata": {},
   "outputs": [
    {
     "data": {
      "text/html": [
       "<div>\n",
       "<style scoped>\n",
       "    .dataframe tbody tr th:only-of-type {\n",
       "        vertical-align: middle;\n",
       "    }\n",
       "\n",
       "    .dataframe tbody tr th {\n",
       "        vertical-align: top;\n",
       "    }\n",
       "\n",
       "    .dataframe thead th {\n",
       "        text-align: right;\n",
       "    }\n",
       "</style>\n",
       "<table border=\"1\" class=\"dataframe\">\n",
       "  <thead>\n",
       "    <tr style=\"text-align: right;\">\n",
       "      <th></th>\n",
       "      <th>features</th>\n",
       "      <th>missing_percentage</th>\n",
       "    </tr>\n",
       "  </thead>\n",
       "  <tbody>\n",
       "    <tr>\n",
       "      <th>0</th>\n",
       "      <td>passenger_count</td>\n",
       "      <td>0.003512</td>\n",
       "    </tr>\n",
       "    <tr>\n",
       "      <th>1</th>\n",
       "      <td>fare_amount</td>\n",
       "      <td>0.001405</td>\n",
       "    </tr>\n",
       "    <tr>\n",
       "      <th>2</th>\n",
       "      <td>pickup_datetime</td>\n",
       "      <td>0.000064</td>\n",
       "    </tr>\n",
       "    <tr>\n",
       "      <th>3</th>\n",
       "      <td>pickup_longitude</td>\n",
       "      <td>0.000000</td>\n",
       "    </tr>\n",
       "    <tr>\n",
       "      <th>4</th>\n",
       "      <td>pickup_latitude</td>\n",
       "      <td>0.000000</td>\n",
       "    </tr>\n",
       "    <tr>\n",
       "      <th>5</th>\n",
       "      <td>dropoff_longitude</td>\n",
       "      <td>0.000000</td>\n",
       "    </tr>\n",
       "    <tr>\n",
       "      <th>6</th>\n",
       "      <td>dropoff_latitude</td>\n",
       "      <td>0.000000</td>\n",
       "    </tr>\n",
       "  </tbody>\n",
       "</table>\n",
       "</div>"
      ],
      "text/plain": [
       "            features  missing_percentage\n",
       "0    passenger_count            0.003512\n",
       "1        fare_amount            0.001405\n",
       "2    pickup_datetime            0.000064\n",
       "3   pickup_longitude            0.000000\n",
       "4    pickup_latitude            0.000000\n",
       "5  dropoff_longitude            0.000000\n",
       "6   dropoff_latitude            0.000000"
      ]
     },
     "execution_count": 21,
     "metadata": {},
     "output_type": "execute_result"
    }
   ],
   "source": [
    "missing_val=missing_val.sort_values('missing_percentage', ascending = False).reset_index(drop = True)\n",
    "missing_val"
   ]
  },
  {
   "cell_type": "code",
   "execution_count": 24,
   "metadata": {},
   "outputs": [
    {
     "data": {
      "text/html": [
       "<div>\n",
       "<style scoped>\n",
       "    .dataframe tbody tr th:only-of-type {\n",
       "        vertical-align: middle;\n",
       "    }\n",
       "\n",
       "    .dataframe tbody tr th {\n",
       "        vertical-align: top;\n",
       "    }\n",
       "\n",
       "    .dataframe thead th {\n",
       "        text-align: right;\n",
       "    }\n",
       "</style>\n",
       "<table border=\"1\" class=\"dataframe\">\n",
       "  <thead>\n",
       "    <tr style=\"text-align: right;\">\n",
       "      <th></th>\n",
       "      <th>fare_amount</th>\n",
       "      <th>pickup_datetime</th>\n",
       "      <th>pickup_longitude</th>\n",
       "      <th>pickup_latitude</th>\n",
       "      <th>dropoff_longitude</th>\n",
       "      <th>dropoff_latitude</th>\n",
       "      <th>passenger_count</th>\n",
       "    </tr>\n",
       "  </thead>\n",
       "  <tbody>\n",
       "    <tr>\n",
       "      <th>0</th>\n",
       "      <td>4.5</td>\n",
       "      <td>2009-06-15 17:26:21+00:00</td>\n",
       "      <td>-73.844311</td>\n",
       "      <td>40.721319</td>\n",
       "      <td>-73.841610</td>\n",
       "      <td>40.712278</td>\n",
       "      <td>1.0</td>\n",
       "    </tr>\n",
       "    <tr>\n",
       "      <th>1</th>\n",
       "      <td>16.9</td>\n",
       "      <td>2010-01-05 16:52:16+00:00</td>\n",
       "      <td>-74.016048</td>\n",
       "      <td>40.711303</td>\n",
       "      <td>-73.979268</td>\n",
       "      <td>40.782004</td>\n",
       "      <td>1.0</td>\n",
       "    </tr>\n",
       "  </tbody>\n",
       "</table>\n",
       "</div>"
      ],
      "text/plain": [
       "   fare_amount           pickup_datetime  pickup_longitude  pickup_latitude  \\\n",
       "0          4.5 2009-06-15 17:26:21+00:00        -73.844311        40.721319   \n",
       "1         16.9 2010-01-05 16:52:16+00:00        -74.016048        40.711303   \n",
       "\n",
       "   dropoff_longitude  dropoff_latitude  passenger_count  \n",
       "0         -73.841610         40.712278              1.0  \n",
       "1         -73.979268         40.782004              1.0  "
      ]
     },
     "execution_count": 24,
     "metadata": {},
     "output_type": "execute_result"
    }
   ],
   "source": [
    "A.head(2)"
   ]
  },
  {
   "cell_type": "code",
   "execution_count": 5,
   "metadata": {},
   "outputs": [],
   "source": [
    "# removing the NA observations.(as they are very less in count to impute.)# nearly 77 missing values.\n",
    "A = A.drop(A[A['fare_amount'].isnull()].index, axis=0)\n",
    "A = A.drop(A[A['passenger_count'].isnull()].index, axis=0)"
   ]
  },
  {
   "cell_type": "code",
   "execution_count": 6,
   "metadata": {},
   "outputs": [
    {
     "name": "stdout",
     "output_type": "stream",
     "text": [
      "(15581, 7)\n",
      "0\n"
     ]
    }
   ],
   "source": [
    "#removing datetime missing values rows\n",
    "A = A.drop(A[A['pickup_datetime'].isnull()].index, axis=0)\n",
    "print(A.shape)\n",
    "print(A['pickup_datetime'].isnull().sum())"
   ]
  },
  {
   "cell_type": "code",
   "execution_count": 7,
   "metadata": {},
   "outputs": [
    {
     "data": {
      "text/plain": [
       "(fare_amount          0\n",
       " pickup_datetime      0\n",
       " pickup_longitude     0\n",
       " pickup_latitude      0\n",
       " dropoff_longitude    0\n",
       " dropoff_latitude     0\n",
       " passenger_count      0\n",
       " dtype: int64, (15581, 7))"
      ]
     },
     "execution_count": 7,
     "metadata": {},
     "output_type": "execute_result"
    }
   ],
   "source": [
    "A.isnull().sum(),A.shape # now there are Zero missing values. "
   ]
  },
  {
   "cell_type": "code",
   "execution_count": 46,
   "metadata": {},
   "outputs": [
    {
     "data": {
      "text/html": [
       "<div>\n",
       "<style scoped>\n",
       "    .dataframe tbody tr th:only-of-type {\n",
       "        vertical-align: middle;\n",
       "    }\n",
       "\n",
       "    .dataframe tbody tr th {\n",
       "        vertical-align: top;\n",
       "    }\n",
       "\n",
       "    .dataframe thead th {\n",
       "        text-align: right;\n",
       "    }\n",
       "</style>\n",
       "<table border=\"1\" class=\"dataframe\">\n",
       "  <thead>\n",
       "    <tr style=\"text-align: right;\">\n",
       "      <th></th>\n",
       "      <th>fare_amount</th>\n",
       "      <th>pickup_longitude</th>\n",
       "      <th>pickup_latitude</th>\n",
       "      <th>dropoff_longitude</th>\n",
       "      <th>dropoff_latitude</th>\n",
       "      <th>passenger_count</th>\n",
       "    </tr>\n",
       "  </thead>\n",
       "  <tbody>\n",
       "    <tr>\n",
       "      <th>count</th>\n",
       "      <td>15581.000000</td>\n",
       "      <td>15581.000000</td>\n",
       "      <td>15581.000000</td>\n",
       "      <td>15581.000000</td>\n",
       "      <td>15581.000000</td>\n",
       "      <td>15581.000000</td>\n",
       "    </tr>\n",
       "    <tr>\n",
       "      <th>mean</th>\n",
       "      <td>11.369326</td>\n",
       "      <td>-73.911157</td>\n",
       "      <td>40.689391</td>\n",
       "      <td>-73.905951</td>\n",
       "      <td>40.687321</td>\n",
       "      <td>1.650491</td>\n",
       "    </tr>\n",
       "    <tr>\n",
       "      <th>std</th>\n",
       "      <td>10.793005</td>\n",
       "      <td>2.665863</td>\n",
       "      <td>2.620002</td>\n",
       "      <td>2.717781</td>\n",
       "      <td>2.639145</td>\n",
       "      <td>1.265930</td>\n",
       "    </tr>\n",
       "    <tr>\n",
       "      <th>min</th>\n",
       "      <td>1.140000</td>\n",
       "      <td>-74.438233</td>\n",
       "      <td>-74.006893</td>\n",
       "      <td>-74.429332</td>\n",
       "      <td>-74.006377</td>\n",
       "      <td>1.000000</td>\n",
       "    </tr>\n",
       "    <tr>\n",
       "      <th>25%</th>\n",
       "      <td>6.000000</td>\n",
       "      <td>-73.992372</td>\n",
       "      <td>40.736548</td>\n",
       "      <td>-73.991368</td>\n",
       "      <td>40.736297</td>\n",
       "      <td>1.000000</td>\n",
       "    </tr>\n",
       "    <tr>\n",
       "      <th>50%</th>\n",
       "      <td>8.500000</td>\n",
       "      <td>-73.982049</td>\n",
       "      <td>40.753303</td>\n",
       "      <td>-73.980548</td>\n",
       "      <td>40.754217</td>\n",
       "      <td>1.000000</td>\n",
       "    </tr>\n",
       "    <tr>\n",
       "      <th>75%</th>\n",
       "      <td>12.500000</td>\n",
       "      <td>-73.968057</td>\n",
       "      <td>40.767803</td>\n",
       "      <td>-73.965367</td>\n",
       "      <td>40.768312</td>\n",
       "      <td>2.000000</td>\n",
       "    </tr>\n",
       "    <tr>\n",
       "      <th>max</th>\n",
       "      <td>453.000000</td>\n",
       "      <td>40.766125</td>\n",
       "      <td>41.366138</td>\n",
       "      <td>40.802437</td>\n",
       "      <td>41.366138</td>\n",
       "      <td>6.000000</td>\n",
       "    </tr>\n",
       "  </tbody>\n",
       "</table>\n",
       "</div>"
      ],
      "text/plain": [
       "        fare_amount  pickup_longitude  pickup_latitude  dropoff_longitude  \\\n",
       "count  15581.000000      15581.000000     15581.000000       15581.000000   \n",
       "mean      11.369326        -73.911157        40.689391         -73.905951   \n",
       "std       10.793005          2.665863         2.620002           2.717781   \n",
       "min        1.140000        -74.438233       -74.006893         -74.429332   \n",
       "25%        6.000000        -73.992372        40.736548         -73.991368   \n",
       "50%        8.500000        -73.982049        40.753303         -73.980548   \n",
       "75%       12.500000        -73.968057        40.767803         -73.965367   \n",
       "max      453.000000         40.766125        41.366138          40.802437   \n",
       "\n",
       "       dropoff_latitude  passenger_count  \n",
       "count      15581.000000     15581.000000  \n",
       "mean          40.687321         1.650491  \n",
       "std            2.639145         1.265930  \n",
       "min          -74.006377         1.000000  \n",
       "25%           40.736297         1.000000  \n",
       "50%           40.754217         1.000000  \n",
       "75%           40.768312         2.000000  \n",
       "max           41.366138         6.000000  "
      ]
     },
     "execution_count": 46,
     "metadata": {},
     "output_type": "execute_result"
    }
   ],
   "source": [
    "A.describe()"
   ]
  },
  {
   "cell_type": "code",
   "execution_count": 49,
   "metadata": {},
   "outputs": [
    {
     "data": {
      "text/html": [
       "<div>\n",
       "<style scoped>\n",
       "    .dataframe tbody tr th:only-of-type {\n",
       "        vertical-align: middle;\n",
       "    }\n",
       "\n",
       "    .dataframe tbody tr th {\n",
       "        vertical-align: top;\n",
       "    }\n",
       "\n",
       "    .dataframe thead th {\n",
       "        text-align: right;\n",
       "    }\n",
       "</style>\n",
       "<table border=\"1\" class=\"dataframe\">\n",
       "  <thead>\n",
       "    <tr style=\"text-align: right;\">\n",
       "      <th></th>\n",
       "      <th>pickup_longitude</th>\n",
       "      <th>pickup_latitude</th>\n",
       "      <th>dropoff_longitude</th>\n",
       "      <th>dropoff_latitude</th>\n",
       "      <th>passenger_count</th>\n",
       "    </tr>\n",
       "  </thead>\n",
       "  <tbody>\n",
       "    <tr>\n",
       "      <th>count</th>\n",
       "      <td>9914.000000</td>\n",
       "      <td>9914.000000</td>\n",
       "      <td>9914.000000</td>\n",
       "      <td>9914.000000</td>\n",
       "      <td>9914.000000</td>\n",
       "    </tr>\n",
       "    <tr>\n",
       "      <th>mean</th>\n",
       "      <td>-73.974722</td>\n",
       "      <td>40.751041</td>\n",
       "      <td>-73.973657</td>\n",
       "      <td>40.751743</td>\n",
       "      <td>1.671273</td>\n",
       "    </tr>\n",
       "    <tr>\n",
       "      <th>std</th>\n",
       "      <td>0.042774</td>\n",
       "      <td>0.033541</td>\n",
       "      <td>0.039072</td>\n",
       "      <td>0.035435</td>\n",
       "      <td>1.278747</td>\n",
       "    </tr>\n",
       "    <tr>\n",
       "      <th>min</th>\n",
       "      <td>-74.252193</td>\n",
       "      <td>40.573143</td>\n",
       "      <td>-74.263242</td>\n",
       "      <td>40.568973</td>\n",
       "      <td>1.000000</td>\n",
       "    </tr>\n",
       "    <tr>\n",
       "      <th>25%</th>\n",
       "      <td>-73.992501</td>\n",
       "      <td>40.736125</td>\n",
       "      <td>-73.991247</td>\n",
       "      <td>40.735254</td>\n",
       "      <td>1.000000</td>\n",
       "    </tr>\n",
       "    <tr>\n",
       "      <th>50%</th>\n",
       "      <td>-73.982326</td>\n",
       "      <td>40.753051</td>\n",
       "      <td>-73.980015</td>\n",
       "      <td>40.754065</td>\n",
       "      <td>1.000000</td>\n",
       "    </tr>\n",
       "    <tr>\n",
       "      <th>75%</th>\n",
       "      <td>-73.968013</td>\n",
       "      <td>40.767113</td>\n",
       "      <td>-73.964059</td>\n",
       "      <td>40.768757</td>\n",
       "      <td>2.000000</td>\n",
       "    </tr>\n",
       "    <tr>\n",
       "      <th>max</th>\n",
       "      <td>-72.986532</td>\n",
       "      <td>41.709555</td>\n",
       "      <td>-72.990963</td>\n",
       "      <td>41.696683</td>\n",
       "      <td>6.000000</td>\n",
       "    </tr>\n",
       "  </tbody>\n",
       "</table>\n",
       "</div>"
      ],
      "text/plain": [
       "       pickup_longitude  pickup_latitude  dropoff_longitude  dropoff_latitude  \\\n",
       "count       9914.000000      9914.000000        9914.000000       9914.000000   \n",
       "mean         -73.974722        40.751041         -73.973657         40.751743   \n",
       "std            0.042774         0.033541           0.039072          0.035435   \n",
       "min          -74.252193        40.573143         -74.263242         40.568973   \n",
       "25%          -73.992501        40.736125         -73.991247         40.735254   \n",
       "50%          -73.982326        40.753051         -73.980015         40.754065   \n",
       "75%          -73.968013        40.767113         -73.964059         40.768757   \n",
       "max          -72.986532        41.709555         -72.990963         41.696683   \n",
       "\n",
       "       passenger_count  \n",
       "count      9914.000000  \n",
       "mean          1.671273  \n",
       "std           1.278747  \n",
       "min           1.000000  \n",
       "25%           1.000000  \n",
       "50%           1.000000  \n",
       "75%           2.000000  \n",
       "max           6.000000  "
      ]
     },
     "execution_count": 49,
     "metadata": {},
     "output_type": "execute_result"
    }
   ],
   "source": [
    "B.describe()"
   ]
  },
  {
   "cell_type": "code",
   "execution_count": 50,
   "metadata": {},
   "outputs": [
    {
     "data": {
      "text/plain": [
       "array([1. , 2. , 3. , 6. , 5. , 4. , 1.3])"
      ]
     },
     "execution_count": 50,
     "metadata": {},
     "output_type": "execute_result"
    }
   ],
   "source": [
    "A['passenger_count'].unique()"
   ]
  },
  {
   "cell_type": "code",
   "execution_count": 54,
   "metadata": {},
   "outputs": [
    {
     "data": {
      "text/plain": [
       "1"
      ]
     },
     "execution_count": 54,
     "metadata": {},
     "output_type": "execute_result"
    }
   ],
   "source": [
    "sum(A['passenger_count']==1.3)"
   ]
  },
  {
   "cell_type": "code",
   "execution_count": 8,
   "metadata": {},
   "outputs": [],
   "source": [
    "A=A.drop(A[A['passenger_count']==1.3].index,axis=0) # passenger count cannot be 1.3 so dropping it out."
   ]
  },
  {
   "cell_type": "code",
   "execution_count": 9,
   "metadata": {},
   "outputs": [],
   "source": [
    "# MAKING NEW FEATURES.\n",
    "A['pickup_datetime'] = pd.to_datetime(A['pickup_datetime'], format='%Y-%m-%d %H:%M:%S UTC')  # note:- A=train, B=test.\n",
    "B['pickup_datetime'] = pd.to_datetime(B['pickup_datetime'], format='%Y-%m-%d %H:%M:%S UTC')  # note:- A=train, B=test."
   ]
  },
  {
   "cell_type": "code",
   "execution_count": 10,
   "metadata": {},
   "outputs": [],
   "source": [
    "# seperating the Pickup_datetime column into separate field like year, month, day of the week, etc\n",
    "\n",
    "A['year'] = A['pickup_datetime'].dt.year\n",
    "A['Month'] = A['pickup_datetime'].dt.month\n",
    "A['Date'] = A['pickup_datetime'].dt.day\n",
    "A['Day'] = A['pickup_datetime'].dt.dayofweek\n",
    "A['Hour'] = A['pickup_datetime'].dt.hour\n",
    "A['Minute'] = A['pickup_datetime'].dt.minute\n",
    "# lets do same for B dataset which is test dataset.         # note:- A=train, B=test.\n",
    "B['year'] = B['pickup_datetime'].dt.year\n",
    "B['Month'] = B['pickup_datetime'].dt.month\n",
    "B['Date'] = B['pickup_datetime'].dt.day\n",
    "B['Day'] = B['pickup_datetime'].dt.dayofweek\n",
    "B['Hour'] = B['pickup_datetime'].dt.hour\n",
    "B['Minute'] =B['pickup_datetime'].dt.minute"
   ]
  },
  {
   "cell_type": "code",
   "execution_count": 11,
   "metadata": {},
   "outputs": [
    {
     "name": "stdout",
     "output_type": "stream",
     "text": [
      "<class 'pandas.core.frame.DataFrame'>\n",
      "Int64Index: 15580 entries, 0 to 16065\n",
      "Data columns (total 13 columns):\n",
      "fare_amount          15580 non-null float64\n",
      "pickup_datetime      15580 non-null datetime64[ns, UTC]\n",
      "pickup_longitude     15580 non-null float64\n",
      "pickup_latitude      15580 non-null float64\n",
      "dropoff_longitude    15580 non-null float64\n",
      "dropoff_latitude     15580 non-null float64\n",
      "passenger_count      15580 non-null float64\n",
      "year                 15580 non-null int64\n",
      "Month                15580 non-null int64\n",
      "Date                 15580 non-null int64\n",
      "Day                  15580 non-null int64\n",
      "Hour                 15580 non-null int64\n",
      "Minute               15580 non-null int64\n",
      "dtypes: datetime64[ns, UTC](1), float64(6), int64(6)\n",
      "memory usage: 1.7 MB\n"
     ]
    },
    {
     "data": {
      "text/plain": [
       "(None, (15580, 13))"
      ]
     },
     "execution_count": 11,
     "metadata": {},
     "output_type": "execute_result"
    }
   ],
   "source": [
    "A.info(),A.shape   # note:- A=train"
   ]
  },
  {
   "cell_type": "code",
   "execution_count": 89,
   "metadata": {},
   "outputs": [
    {
     "name": "stdout",
     "output_type": "stream",
     "text": [
      "<class 'pandas.core.frame.DataFrame'>\n",
      "RangeIndex: 9914 entries, 0 to 9913\n",
      "Data columns (total 13 columns):\n",
      "pickup_datetime      9914 non-null datetime64[ns, UTC]\n",
      "pickup_longitude     9914 non-null float64\n",
      "pickup_latitude      9914 non-null float64\n",
      "dropoff_longitude    9914 non-null float64\n",
      "dropoff_latitude     9914 non-null float64\n",
      "passenger_count      9914 non-null int64\n",
      "year                 9914 non-null int64\n",
      "Month                9914 non-null int64\n",
      "Date                 9914 non-null int64\n",
      "Day                  9914 non-null int64\n",
      "Hour                 9914 non-null int64\n",
      "Minute               9914 non-null int64\n",
      "distance             9914 non-null float64\n",
      "dtypes: datetime64[ns, UTC](1), float64(5), int64(7)\n",
      "memory usage: 1007.0 KB\n"
     ]
    },
    {
     "data": {
      "text/plain": [
       "(None, (9914, 13))"
      ]
     },
     "execution_count": 89,
     "metadata": {},
     "output_type": "execute_result"
    }
   ],
   "source": [
    "B.info(),B.shape    # note:-  B=test."
   ]
  },
  {
   "cell_type": "code",
   "execution_count": 77,
   "metadata": {},
   "outputs": [
    {
     "data": {
      "text/plain": [
       "(array([2009, 2010, 2011, 2012, 2013, 2014, 2015], dtype=int64),\n",
       " array([2015, 2011, 2012, 2014, 2010, 2013, 2009], dtype=int64))"
      ]
     },
     "execution_count": 77,
     "metadata": {},
     "output_type": "execute_result"
    }
   ],
   "source": [
    "A['year'].unique(),B['year'].unique()"
   ]
  },
  {
   "cell_type": "code",
   "execution_count": 78,
   "metadata": {},
   "outputs": [
    {
     "data": {
      "text/plain": [
       "(array([ 6,  1,  8,  4,  3, 11,  9,  7,  2, 12,  5, 10], dtype=int64),\n",
       " array([ 1, 10, 12,  2,  3,  7,  6,  8, 11,  9,  4,  5], dtype=int64))"
      ]
     },
     "execution_count": 78,
     "metadata": {},
     "output_type": "execute_result"
    }
   ],
   "source": [
    "A['Month'].unique(),B['Month'].unique()"
   ]
  },
  {
   "cell_type": "code",
   "execution_count": 79,
   "metadata": {},
   "outputs": [
    {
     "data": {
      "text/plain": [
       "(array([15,  5, 18, 21,  9,  6, 20,  4,  2,  8, 19, 22,  7, 12, 10, 28, 11,\n",
       "        24, 29, 31,  1, 14, 23, 16, 17, 27,  3, 25, 30, 26, 13],\n",
       "       dtype=int64),\n",
       " array([27,  8,  1,  6, 18, 29, 15, 14, 12, 20, 22,  4, 24, 28, 21,  9, 25,\n",
       "         7, 31, 10, 23, 30,  2,  5,  3, 16, 11, 26, 19, 17, 13],\n",
       "       dtype=int64))"
      ]
     },
     "execution_count": 79,
     "metadata": {},
     "output_type": "execute_result"
    }
   ],
   "source": [
    "A['Date'].unique(),B['Date'].unique()"
   ]
  },
  {
   "cell_type": "code",
   "execution_count": 80,
   "metadata": {},
   "outputs": [
    {
     "data": {
      "text/plain": [
       "(array([0, 1, 3, 5, 2, 6, 4], dtype=int64), 5    2389\n",
       " 4    2310\n",
       " 3    2261\n",
       " 2    2240\n",
       " 1    2213\n",
       " 6    2101\n",
       " 0    2066\n",
       " Name: Day, dtype: int64, array([1, 5, 3, 0, 6, 2, 4], dtype=int64), 1    1692\n",
       " 2    1612\n",
       " 5    1475\n",
       " 0    1454\n",
       " 4    1283\n",
       " 6    1222\n",
       " 3    1176\n",
       " Name: Day, dtype: int64)"
      ]
     },
     "execution_count": 80,
     "metadata": {},
     "output_type": "execute_result"
    }
   ],
   "source": [
    "A['Day'].unique(),A['Day'].value_counts(),B['Day'].unique(),B['Day'].value_counts()  # note:- A=train, B=test."
   ]
  },
  {
   "cell_type": "code",
   "execution_count": 81,
   "metadata": {},
   "outputs": [
    {
     "data": {
      "text/plain": [
       "(array([17, 16,  0,  4,  7,  9, 20,  1, 19, 14, 13, 12, 18, 15,  6, 23,  3,\n",
       "         8, 10, 11, 21,  2, 22,  5], dtype=int64), 18    968\n",
       " 19    961\n",
       " 20    932\n",
       " 21    892\n",
       " 22    880\n",
       " 12    777\n",
       " 14    774\n",
       " 13    762\n",
       " 9     761\n",
       " 23    752\n",
       " 17    751\n",
       " 15    721\n",
       " 11    721\n",
       " 8     681\n",
       " 10    654\n",
       " 16    644\n",
       " 7     625\n",
       " 0     583\n",
       " 1     452\n",
       " 6     326\n",
       " 2     322\n",
       " 3     282\n",
       " 4     202\n",
       " 5     157\n",
       " Name: Hour, dtype: int64, array([13, 11, 21, 12, 15, 20,  3, 16,  2,  9,  0,  8, 19, 18, 14, 23, 10,\n",
       "        22,  4,  7,  6,  5, 17,  1], dtype=int64), 7     830\n",
       " 22    804\n",
       " 21    797\n",
       " 16    756\n",
       " 18    752\n",
       " 2     565\n",
       " 12    523\n",
       " 23    503\n",
       " 9     464\n",
       " 13    458\n",
       " 17    425\n",
       " 14    401\n",
       " 0     379\n",
       " 19    334\n",
       " 20    325\n",
       " 11    276\n",
       " 8     267\n",
       " 15    265\n",
       " 1     232\n",
       " 10    190\n",
       " 3     145\n",
       " 6      94\n",
       " 5      65\n",
       " 4      64\n",
       " Name: Hour, dtype: int64)"
      ]
     },
     "execution_count": 81,
     "metadata": {},
     "output_type": "execute_result"
    }
   ],
   "source": [
    "A['Hour'].unique(),A['Hour'].value_counts(),B['Hour'].unique(),B['Hour'].value_counts()  # note:- A=train, B=test."
   ]
  },
  {
   "cell_type": "code",
   "execution_count": 82,
   "metadata": {},
   "outputs": [
    {
     "data": {
      "text/plain": [
       "(array([26, 52, 35, 30, 51, 50, 22, 11,  4, 54,  8, 36, 18, 15, 17, 29, 37,\n",
       "        47,  3, 10,  5, 42, 39, 55, 38, 28, 12, 14, 53, 16,  9, 31,  1,  7,\n",
       "         6, 13, 57, 21, 59, 19, 34, 20,  0, 33, 24, 44, 40,  2, 49, 48, 41,\n",
       "        56, 23, 43, 27, 45, 46, 32, 58, 25], dtype=int64), 5     291\n",
       " 20    287\n",
       " 10    285\n",
       " 43    282\n",
       " 41    281\n",
       " 54    278\n",
       " 49    278\n",
       " 39    278\n",
       " 51    277\n",
       " 11    276\n",
       " 37    272\n",
       " 13    272\n",
       " 26    272\n",
       " 53    272\n",
       " 32    271\n",
       " 27    270\n",
       " 45    269\n",
       " 47    269\n",
       " 33    268\n",
       " 23    267\n",
       " 24    267\n",
       " 31    267\n",
       " 1     267\n",
       " 28    266\n",
       " 59    265\n",
       " 56    265\n",
       " 29    264\n",
       " 22    263\n",
       " 42    262\n",
       " 50    261\n",
       " 2     261\n",
       " 46    260\n",
       " 48    260\n",
       " 7     259\n",
       " 44    257\n",
       " 6     257\n",
       " 14    257\n",
       " 57    257\n",
       " 52    256\n",
       " 38    256\n",
       " 12    255\n",
       " 35    254\n",
       " 17    254\n",
       " 21    254\n",
       " 58    252\n",
       " 15    251\n",
       " 0     249\n",
       " 16    248\n",
       " 30    247\n",
       " 25    245\n",
       " 34    245\n",
       " 18    244\n",
       " 19    243\n",
       " 4     242\n",
       " 9     240\n",
       " 55    236\n",
       " 3     231\n",
       " 8     221\n",
       " 40    216\n",
       " 36    211\n",
       " Name: Minute, dtype: int64, array([ 8, 53, 12, 10, 22, 20, 59, 45,  9, 39, 42, 34, 14, 58, 38, 36, 52,\n",
       "        29,  3, 37, 16, 54, 31, 57, 55, 47,  2, 33, 32, 50, 13, 19, 11,  6,\n",
       "         1, 27, 23, 48, 17,  7, 21, 15, 44,  4, 46, 35, 43, 18, 25, 26, 49,\n",
       "        30,  0, 51, 40,  5, 56, 41, 28, 24], dtype=int64), 0     652\n",
       " 37    565\n",
       " 19    373\n",
       " 54    365\n",
       " 3     307\n",
       " 45    300\n",
       " 33    300\n",
       " 48    293\n",
       " 39    287\n",
       " 1     285\n",
       " 43    280\n",
       " 29    275\n",
       " 57    270\n",
       " 11    264\n",
       " 55    263\n",
       " 47    251\n",
       " 13    247\n",
       " 58    240\n",
       " 36    235\n",
       " 16    188\n",
       " 44    175\n",
       " 6     171\n",
       " 31    142\n",
       " 9     136\n",
       " 52    129\n",
       " 50    116\n",
       " 23    110\n",
       " 5     110\n",
       " 4     109\n",
       " 49    106\n",
       " 28    104\n",
       " 7     103\n",
       " 56    101\n",
       " 32     99\n",
       " 20     98\n",
       " 15     97\n",
       " 38     90\n",
       " 2      87\n",
       " 21     86\n",
       " 18     86\n",
       " 8      82\n",
       " 59     81\n",
       " 42     79\n",
       " 51     78\n",
       " 12     78\n",
       " 14     77\n",
       " 34     77\n",
       " 27     76\n",
       " 24     73\n",
       " 41     73\n",
       " 25     72\n",
       " 53     71\n",
       " 17     69\n",
       " 46     68\n",
       " 10     67\n",
       " 40     64\n",
       " 26     63\n",
       " 30     61\n",
       " 22     58\n",
       " 35     52\n",
       " Name: Minute, dtype: int64)"
      ]
     },
     "execution_count": 82,
     "metadata": {},
     "output_type": "execute_result"
    }
   ],
   "source": [
    "A['Minute'].unique(),A['Minute'].value_counts(),B['Minute'].unique(),B['Minute'].value_counts()  # note:- A=train, B=test."
   ]
  },
  {
   "cell_type": "code",
   "execution_count": 12,
   "metadata": {},
   "outputs": [],
   "source": [
    "#As we know that we have given pickup longitute and latitude values and same for drop. \n",
    "#So we need to calculate the distance Using the haversine formula and we will create a new variable called distance\n",
    "from math import radians, cos, sin, asin, sqrt\n",
    "\n",
    "def haversine(a):\n",
    "    lon1=a[0]\n",
    "    lat1=a[1]\n",
    "    lon2=a[2]\n",
    "    lat2=a[3]\n",
    "    \"\"\"\n",
    "    Calculate the great circle distance between two points \n",
    "    on the earth (specified in decimal degrees)\n",
    "    \"\"\"\n",
    "    # convert decimal degrees to radians \n",
    "    lon1, lat1, lon2, lat2 = map(radians, [lon1, lat1, lon2, lat2])\n",
    "    \n",
    "    # haversine formula \n",
    "    dlon = lon2 - lon1 \n",
    "    dlat = lat2 - lat1 \n",
    "    a = sin(dlat/2)**2 + cos(lat1) * cos(lat2) * sin(dlon/2)**2\n",
    "    c =  2 * asin(sqrt(a))\n",
    "    # Radius of earth in kilometers is 6371\n",
    "    km = 6371* c\n",
    "    return km"
   ]
  },
  {
   "cell_type": "code",
   "execution_count": 13,
   "metadata": {},
   "outputs": [],
   "source": [
    "A['distance'] = A[['pickup_longitude','pickup_latitude','dropoff_longitude','dropoff_latitude']].apply(haversine,axis=1)   # note:- A=train, B=test.\n",
    "B['distance'] = B[['pickup_longitude','pickup_latitude','dropoff_longitude','dropoff_latitude']].apply(haversine,axis=1)    # note:- A=train, B=test."
   ]
  },
  {
   "cell_type": "code",
   "execution_count": 14,
   "metadata": {},
   "outputs": [
    {
     "data": {
      "text/plain": [
       "(5864     5420.988959\n",
       " 7014     4447.086698\n",
       " 10710     129.950482\n",
       " 14536     129.560455\n",
       " 11619     127.509261\n",
       " 12228     123.561157\n",
       " 5663      101.094619\n",
       " 1684       99.771579\n",
       " 3075       97.985088\n",
       " 9899       97.670590\n",
       " 4487       95.852036\n",
       " 9808       93.925599\n",
       " 7401       92.605848\n",
       " 12349      43.648755\n",
       " 649        39.476975\n",
       " 6308       37.812945\n",
       " 4118       32.602535\n",
       " 7021       29.478280\n",
       " 6677       26.369072\n",
       " 4567       25.735917\n",
       " 8105       24.690884\n",
       " 15023      24.125745\n",
       " 15178      23.814940\n",
       " 14099      23.696200\n",
       " 12433      23.513721\n",
       " 4268       23.196680\n",
       " 3216       23.184092\n",
       " 4299       23.168706\n",
       " 12941      23.114168\n",
       " 13804      23.077267\n",
       "             ...     \n",
       " 10212       0.000000\n",
       " 15738       0.000000\n",
       " 6632        0.000000\n",
       " 4769        0.000000\n",
       " 9956        0.000000\n",
       " 5045        0.000000\n",
       " 15230       0.000000\n",
       " 12847       0.000000\n",
       " 10192       0.000000\n",
       " 7097        0.000000\n",
       " 14940       0.000000\n",
       " 14268       0.000000\n",
       " 7777        0.000000\n",
       " 1265        0.000000\n",
       " 10959       0.000000\n",
       " 10582       0.000000\n",
       " 1245        0.000000\n",
       " 13000       0.000000\n",
       " 5018        0.000000\n",
       " 6032        0.000000\n",
       " 1630        0.000000\n",
       " 6427        0.000000\n",
       " 396         0.000000\n",
       " 12096       0.000000\n",
       " 9177        0.000000\n",
       " 5023        0.000000\n",
       " 1222        0.000000\n",
       " 3945        0.000000\n",
       " 1214        0.000000\n",
       " 1335        0.000000\n",
       " Name: distance, Length: 15580, dtype: float64, 4080    99.996040\n",
       " 8529    98.192419\n",
       " 5887    97.240975\n",
       " 7269    33.604366\n",
       " 4334    28.837177\n",
       " 3569    27.863332\n",
       " 5115    27.653128\n",
       " 9391    27.287881\n",
       " 4864    27.169511\n",
       " 706     25.565980\n",
       " 2487    25.364627\n",
       " 5865    23.443658\n",
       " 5357    23.120250\n",
       " 5905    23.099448\n",
       " 2175    23.051119\n",
       " 8173    22.640229\n",
       " 7787    22.474632\n",
       " 2718    22.407984\n",
       " 248     22.344419\n",
       " 5373    22.132067\n",
       " 8825    22.113966\n",
       " 7346    22.080922\n",
       " 6260    22.064573\n",
       " 628     21.880433\n",
       " 5523    21.880030\n",
       " 7000    21.845869\n",
       " 8876    21.811484\n",
       " 8944    21.785143\n",
       " 7857    21.782684\n",
       " 4018    21.738063\n",
       "           ...    \n",
       " 121      0.000000\n",
       " 2641     0.000000\n",
       " 1218     0.000000\n",
       " 1429     0.000000\n",
       " 7839     0.000000\n",
       " 451      0.000000\n",
       " 981      0.000000\n",
       " 2675     0.000000\n",
       " 1409     0.000000\n",
       " 7874     0.000000\n",
       " 6954     0.000000\n",
       " 976      0.000000\n",
       " 2618     0.000000\n",
       " 498      0.000000\n",
       " 5443     0.000000\n",
       " 8426     0.000000\n",
       " 8424     0.000000\n",
       " 491      0.000000\n",
       " 318      0.000000\n",
       " 1189     0.000000\n",
       " 2247     0.000000\n",
       " 2936     0.000000\n",
       " 6157     0.000000\n",
       " 9221     0.000000\n",
       " 860      0.000000\n",
       " 8835     0.000000\n",
       " 943      0.000000\n",
       " 2258     0.000000\n",
       " 7637     0.000000\n",
       " 6335     0.000000\n",
       " Name: distance, Length: 9914, dtype: float64)"
      ]
     },
     "execution_count": 14,
     "metadata": {},
     "output_type": "execute_result"
    }
   ],
   "source": [
    "A['distance'].sort_values(ascending=False),B['distance'].sort_values(ascending=False) # note:- A=train, B=test."
   ]
  },
  {
   "cell_type": "code",
   "execution_count": 94,
   "metadata": {},
   "outputs": [
    {
     "data": {
      "text/plain": [
       "(155, 2)"
      ]
     },
     "execution_count": 94,
     "metadata": {},
     "output_type": "execute_result"
    }
   ],
   "source": [
    "# distance travelled cannot be Zero , so removing those observation with ZERO distance travelled.\n",
    "# at the same time how a person can travel 4000 to 5000 km in cab, thats not possible and removing it.\n",
    "sum(A['distance']==0),sum(A['distance']>130)\n",
    "\n"
   ]
  },
  {
   "cell_type": "code",
   "execution_count": 95,
   "metadata": {},
   "outputs": [
    {
     "data": {
      "text/plain": [
       "(85, 0)"
      ]
     },
     "execution_count": 95,
     "metadata": {},
     "output_type": "execute_result"
    }
   ],
   "source": [
    "sum(B['distance']==0),sum(B['distance']>130)"
   ]
  },
  {
   "cell_type": "code",
   "execution_count": 15,
   "metadata": {},
   "outputs": [],
   "source": [
    "A=A.drop(A[A['distance']==0].index,axis=0)\n",
    "A=A.drop(A[A['distance']>130].index,axis=0)"
   ]
  },
  {
   "cell_type": "code",
   "execution_count": 16,
   "metadata": {},
   "outputs": [],
   "source": [
    "B=B.drop(B[B['distance']==0].index,axis=0)"
   ]
  },
  {
   "cell_type": "code",
   "execution_count": 17,
   "metadata": {},
   "outputs": [
    {
     "data": {
      "text/html": [
       "<div>\n",
       "<style scoped>\n",
       "    .dataframe tbody tr th:only-of-type {\n",
       "        vertical-align: middle;\n",
       "    }\n",
       "\n",
       "    .dataframe tbody tr th {\n",
       "        vertical-align: top;\n",
       "    }\n",
       "\n",
       "    .dataframe thead th {\n",
       "        text-align: right;\n",
       "    }\n",
       "</style>\n",
       "<table border=\"1\" class=\"dataframe\">\n",
       "  <thead>\n",
       "    <tr style=\"text-align: right;\">\n",
       "      <th></th>\n",
       "      <th>fare_amount</th>\n",
       "      <th>pickup_longitude</th>\n",
       "      <th>pickup_latitude</th>\n",
       "      <th>dropoff_longitude</th>\n",
       "      <th>dropoff_latitude</th>\n",
       "      <th>passenger_count</th>\n",
       "      <th>year</th>\n",
       "      <th>Month</th>\n",
       "      <th>Date</th>\n",
       "      <th>Day</th>\n",
       "      <th>Hour</th>\n",
       "      <th>Minute</th>\n",
       "      <th>distance</th>\n",
       "    </tr>\n",
       "  </thead>\n",
       "  <tbody>\n",
       "    <tr>\n",
       "      <th>count</th>\n",
       "      <td>15423.000000</td>\n",
       "      <td>15423.000000</td>\n",
       "      <td>15423.000000</td>\n",
       "      <td>15423.000000</td>\n",
       "      <td>15423.000000</td>\n",
       "      <td>15423.000000</td>\n",
       "      <td>15423.000000</td>\n",
       "      <td>15423.000000</td>\n",
       "      <td>15423.000000</td>\n",
       "      <td>15423.000000</td>\n",
       "      <td>15423.000000</td>\n",
       "      <td>15423.000000</td>\n",
       "      <td>15423.000000</td>\n",
       "    </tr>\n",
       "    <tr>\n",
       "      <th>mean</th>\n",
       "      <td>11.371098</td>\n",
       "      <td>-73.910873</td>\n",
       "      <td>40.688603</td>\n",
       "      <td>-73.909891</td>\n",
       "      <td>40.689106</td>\n",
       "      <td>1.651948</td>\n",
       "      <td>2011.737535</td>\n",
       "      <td>6.274266</td>\n",
       "      <td>15.671335</td>\n",
       "      <td>3.035985</td>\n",
       "      <td>13.500746</td>\n",
       "      <td>29.670298</td>\n",
       "      <td>3.442804</td>\n",
       "    </tr>\n",
       "    <tr>\n",
       "      <th>std</th>\n",
       "      <td>10.674720</td>\n",
       "      <td>2.679431</td>\n",
       "      <td>2.633351</td>\n",
       "      <td>2.679541</td>\n",
       "      <td>2.633002</td>\n",
       "      <td>1.267688</td>\n",
       "      <td>1.870491</td>\n",
       "      <td>3.447739</td>\n",
       "      <td>8.684565</td>\n",
       "      <td>1.969601</td>\n",
       "      <td>6.509780</td>\n",
       "      <td>17.302189</td>\n",
       "      <td>4.597387</td>\n",
       "    </tr>\n",
       "    <tr>\n",
       "      <th>min</th>\n",
       "      <td>1.140000</td>\n",
       "      <td>-74.438233</td>\n",
       "      <td>-74.006893</td>\n",
       "      <td>-74.227047</td>\n",
       "      <td>-74.006377</td>\n",
       "      <td>1.000000</td>\n",
       "      <td>2009.000000</td>\n",
       "      <td>1.000000</td>\n",
       "      <td>1.000000</td>\n",
       "      <td>0.000000</td>\n",
       "      <td>0.000000</td>\n",
       "      <td>0.000000</td>\n",
       "      <td>0.000111</td>\n",
       "    </tr>\n",
       "    <tr>\n",
       "      <th>25%</th>\n",
       "      <td>6.000000</td>\n",
       "      <td>-73.992380</td>\n",
       "      <td>40.736570</td>\n",
       "      <td>-73.991363</td>\n",
       "      <td>40.736307</td>\n",
       "      <td>1.000000</td>\n",
       "      <td>2010.000000</td>\n",
       "      <td>3.000000</td>\n",
       "      <td>8.000000</td>\n",
       "      <td>1.000000</td>\n",
       "      <td>9.000000</td>\n",
       "      <td>15.000000</td>\n",
       "      <td>1.277973</td>\n",
       "    </tr>\n",
       "    <tr>\n",
       "      <th>50%</th>\n",
       "      <td>8.500000</td>\n",
       "      <td>-73.982077</td>\n",
       "      <td>40.753364</td>\n",
       "      <td>-73.980566</td>\n",
       "      <td>40.754246</td>\n",
       "      <td>1.000000</td>\n",
       "      <td>2012.000000</td>\n",
       "      <td>6.000000</td>\n",
       "      <td>16.000000</td>\n",
       "      <td>3.000000</td>\n",
       "      <td>14.000000</td>\n",
       "      <td>30.000000</td>\n",
       "      <td>2.191048</td>\n",
       "    </tr>\n",
       "    <tr>\n",
       "      <th>75%</th>\n",
       "      <td>12.500000</td>\n",
       "      <td>-73.968154</td>\n",
       "      <td>40.767802</td>\n",
       "      <td>-73.965512</td>\n",
       "      <td>40.768314</td>\n",
       "      <td>2.000000</td>\n",
       "      <td>2013.000000</td>\n",
       "      <td>9.000000</td>\n",
       "      <td>23.000000</td>\n",
       "      <td>5.000000</td>\n",
       "      <td>19.000000</td>\n",
       "      <td>45.000000</td>\n",
       "      <td>3.936280</td>\n",
       "    </tr>\n",
       "    <tr>\n",
       "      <th>max</th>\n",
       "      <td>453.000000</td>\n",
       "      <td>40.766125</td>\n",
       "      <td>41.366138</td>\n",
       "      <td>40.802437</td>\n",
       "      <td>41.366138</td>\n",
       "      <td>6.000000</td>\n",
       "      <td>2015.000000</td>\n",
       "      <td>12.000000</td>\n",
       "      <td>31.000000</td>\n",
       "      <td>6.000000</td>\n",
       "      <td>23.000000</td>\n",
       "      <td>59.000000</td>\n",
       "      <td>129.950482</td>\n",
       "    </tr>\n",
       "  </tbody>\n",
       "</table>\n",
       "</div>"
      ],
      "text/plain": [
       "        fare_amount  pickup_longitude  pickup_latitude  dropoff_longitude  \\\n",
       "count  15423.000000      15423.000000     15423.000000       15423.000000   \n",
       "mean      11.371098        -73.910873        40.688603         -73.909891   \n",
       "std       10.674720          2.679431         2.633351           2.679541   \n",
       "min        1.140000        -74.438233       -74.006893         -74.227047   \n",
       "25%        6.000000        -73.992380        40.736570         -73.991363   \n",
       "50%        8.500000        -73.982077        40.753364         -73.980566   \n",
       "75%       12.500000        -73.968154        40.767802         -73.965512   \n",
       "max      453.000000         40.766125        41.366138          40.802437   \n",
       "\n",
       "       dropoff_latitude  passenger_count          year         Month  \\\n",
       "count      15423.000000     15423.000000  15423.000000  15423.000000   \n",
       "mean          40.689106         1.651948   2011.737535      6.274266   \n",
       "std            2.633002         1.267688      1.870491      3.447739   \n",
       "min          -74.006377         1.000000   2009.000000      1.000000   \n",
       "25%           40.736307         1.000000   2010.000000      3.000000   \n",
       "50%           40.754246         1.000000   2012.000000      6.000000   \n",
       "75%           40.768314         2.000000   2013.000000      9.000000   \n",
       "max           41.366138         6.000000   2015.000000     12.000000   \n",
       "\n",
       "               Date           Day          Hour        Minute      distance  \n",
       "count  15423.000000  15423.000000  15423.000000  15423.000000  15423.000000  \n",
       "mean      15.671335      3.035985     13.500746     29.670298      3.442804  \n",
       "std        8.684565      1.969601      6.509780     17.302189      4.597387  \n",
       "min        1.000000      0.000000      0.000000      0.000000      0.000111  \n",
       "25%        8.000000      1.000000      9.000000     15.000000      1.277973  \n",
       "50%       16.000000      3.000000     14.000000     30.000000      2.191048  \n",
       "75%       23.000000      5.000000     19.000000     45.000000      3.936280  \n",
       "max       31.000000      6.000000     23.000000     59.000000    129.950482  "
      ]
     },
     "execution_count": 17,
     "metadata": {},
     "output_type": "execute_result"
    }
   ],
   "source": [
    "A.describe()"
   ]
  },
  {
   "cell_type": "code",
   "execution_count": 18,
   "metadata": {},
   "outputs": [
    {
     "data": {
      "text/html": [
       "<div>\n",
       "<style scoped>\n",
       "    .dataframe tbody tr th:only-of-type {\n",
       "        vertical-align: middle;\n",
       "    }\n",
       "\n",
       "    .dataframe tbody tr th {\n",
       "        vertical-align: top;\n",
       "    }\n",
       "\n",
       "    .dataframe thead th {\n",
       "        text-align: right;\n",
       "    }\n",
       "</style>\n",
       "<table border=\"1\" class=\"dataframe\">\n",
       "  <thead>\n",
       "    <tr style=\"text-align: right;\">\n",
       "      <th></th>\n",
       "      <th>pickup_longitude</th>\n",
       "      <th>pickup_latitude</th>\n",
       "      <th>dropoff_longitude</th>\n",
       "      <th>dropoff_latitude</th>\n",
       "      <th>passenger_count</th>\n",
       "      <th>year</th>\n",
       "      <th>Month</th>\n",
       "      <th>Date</th>\n",
       "      <th>Day</th>\n",
       "      <th>Hour</th>\n",
       "      <th>Minute</th>\n",
       "      <th>distance</th>\n",
       "    </tr>\n",
       "  </thead>\n",
       "  <tbody>\n",
       "    <tr>\n",
       "      <th>count</th>\n",
       "      <td>9829.000000</td>\n",
       "      <td>9829.000000</td>\n",
       "      <td>9829.000000</td>\n",
       "      <td>9829.000000</td>\n",
       "      <td>9829.000000</td>\n",
       "      <td>9829.000000</td>\n",
       "      <td>9829.000000</td>\n",
       "      <td>9829.000000</td>\n",
       "      <td>9829.000000</td>\n",
       "      <td>9829.000000</td>\n",
       "      <td>9829.000000</td>\n",
       "      <td>9829.000000</td>\n",
       "    </tr>\n",
       "    <tr>\n",
       "      <th>mean</th>\n",
       "      <td>-73.975177</td>\n",
       "      <td>40.750779</td>\n",
       "      <td>-73.974102</td>\n",
       "      <td>40.751487</td>\n",
       "      <td>1.670668</td>\n",
       "      <td>2011.821243</td>\n",
       "      <td>6.855123</td>\n",
       "      <td>16.192899</td>\n",
       "      <td>2.852986</td>\n",
       "      <td>13.465358</td>\n",
       "      <td>29.569641</td>\n",
       "      <td>3.465079</td>\n",
       "    </tr>\n",
       "    <tr>\n",
       "      <th>std</th>\n",
       "      <td>0.039231</td>\n",
       "      <td>0.031166</td>\n",
       "      <td>0.035135</td>\n",
       "      <td>0.033218</td>\n",
       "      <td>1.278280</td>\n",
       "      <td>1.804748</td>\n",
       "      <td>3.353627</td>\n",
       "      <td>8.837636</td>\n",
       "      <td>1.994563</td>\n",
       "      <td>6.874533</td>\n",
       "      <td>18.673511</td>\n",
       "      <td>3.976591</td>\n",
       "    </tr>\n",
       "    <tr>\n",
       "      <th>min</th>\n",
       "      <td>-74.252193</td>\n",
       "      <td>40.573143</td>\n",
       "      <td>-74.263242</td>\n",
       "      <td>40.568973</td>\n",
       "      <td>1.000000</td>\n",
       "      <td>2009.000000</td>\n",
       "      <td>1.000000</td>\n",
       "      <td>1.000000</td>\n",
       "      <td>0.000000</td>\n",
       "      <td>0.000000</td>\n",
       "      <td>0.000000</td>\n",
       "      <td>0.001486</td>\n",
       "    </tr>\n",
       "    <tr>\n",
       "      <th>25%</th>\n",
       "      <td>-73.992569</td>\n",
       "      <td>40.736084</td>\n",
       "      <td>-73.991275</td>\n",
       "      <td>40.735196</td>\n",
       "      <td>1.000000</td>\n",
       "      <td>2010.000000</td>\n",
       "      <td>4.000000</td>\n",
       "      <td>9.000000</td>\n",
       "      <td>1.000000</td>\n",
       "      <td>8.000000</td>\n",
       "      <td>13.000000</td>\n",
       "      <td>1.320656</td>\n",
       "    </tr>\n",
       "    <tr>\n",
       "      <th>50%</th>\n",
       "      <td>-73.982365</td>\n",
       "      <td>40.753045</td>\n",
       "      <td>-73.980083</td>\n",
       "      <td>40.754056</td>\n",
       "      <td>1.000000</td>\n",
       "      <td>2012.000000</td>\n",
       "      <td>7.000000</td>\n",
       "      <td>16.000000</td>\n",
       "      <td>3.000000</td>\n",
       "      <td>15.000000</td>\n",
       "      <td>33.000000</td>\n",
       "      <td>2.235472</td>\n",
       "    </tr>\n",
       "    <tr>\n",
       "      <th>75%</th>\n",
       "      <td>-73.968173</td>\n",
       "      <td>40.767043</td>\n",
       "      <td>-73.964295</td>\n",
       "      <td>40.768748</td>\n",
       "      <td>2.000000</td>\n",
       "      <td>2014.000000</td>\n",
       "      <td>10.000000</td>\n",
       "      <td>25.000000</td>\n",
       "      <td>5.000000</td>\n",
       "      <td>19.000000</td>\n",
       "      <td>45.000000</td>\n",
       "      <td>4.064570</td>\n",
       "    </tr>\n",
       "    <tr>\n",
       "      <th>max</th>\n",
       "      <td>-72.986532</td>\n",
       "      <td>41.709555</td>\n",
       "      <td>-72.990963</td>\n",
       "      <td>41.696683</td>\n",
       "      <td>6.000000</td>\n",
       "      <td>2015.000000</td>\n",
       "      <td>12.000000</td>\n",
       "      <td>31.000000</td>\n",
       "      <td>6.000000</td>\n",
       "      <td>23.000000</td>\n",
       "      <td>59.000000</td>\n",
       "      <td>99.996040</td>\n",
       "    </tr>\n",
       "  </tbody>\n",
       "</table>\n",
       "</div>"
      ],
      "text/plain": [
       "       pickup_longitude  pickup_latitude  dropoff_longitude  dropoff_latitude  \\\n",
       "count       9829.000000      9829.000000        9829.000000       9829.000000   \n",
       "mean         -73.975177        40.750779         -73.974102         40.751487   \n",
       "std            0.039231         0.031166           0.035135          0.033218   \n",
       "min          -74.252193        40.573143         -74.263242         40.568973   \n",
       "25%          -73.992569        40.736084         -73.991275         40.735196   \n",
       "50%          -73.982365        40.753045         -73.980083         40.754056   \n",
       "75%          -73.968173        40.767043         -73.964295         40.768748   \n",
       "max          -72.986532        41.709555         -72.990963         41.696683   \n",
       "\n",
       "       passenger_count         year        Month         Date          Day  \\\n",
       "count      9829.000000  9829.000000  9829.000000  9829.000000  9829.000000   \n",
       "mean          1.670668  2011.821243     6.855123    16.192899     2.852986   \n",
       "std           1.278280     1.804748     3.353627     8.837636     1.994563   \n",
       "min           1.000000  2009.000000     1.000000     1.000000     0.000000   \n",
       "25%           1.000000  2010.000000     4.000000     9.000000     1.000000   \n",
       "50%           1.000000  2012.000000     7.000000    16.000000     3.000000   \n",
       "75%           2.000000  2014.000000    10.000000    25.000000     5.000000   \n",
       "max           6.000000  2015.000000    12.000000    31.000000     6.000000   \n",
       "\n",
       "              Hour       Minute     distance  \n",
       "count  9829.000000  9829.000000  9829.000000  \n",
       "mean     13.465358    29.569641     3.465079  \n",
       "std       6.874533    18.673511     3.976591  \n",
       "min       0.000000     0.000000     0.001486  \n",
       "25%       8.000000    13.000000     1.320656  \n",
       "50%      15.000000    33.000000     2.235472  \n",
       "75%      19.000000    45.000000     4.064570  \n",
       "max      23.000000    59.000000    99.996040  "
      ]
     },
     "execution_count": 18,
     "metadata": {},
     "output_type": "execute_result"
    }
   ],
   "source": [
    "B.describe()"
   ]
  },
  {
   "cell_type": "code",
   "execution_count": 19,
   "metadata": {},
   "outputs": [],
   "source": [
    "# deleting the features.\n",
    "deletingthefeatures = ['pickup_datetime', 'pickup_longitude', 'pickup_latitude','dropoff_longitude', 'dropoff_latitude','Minute']\n",
    "A = A.drop(deletingthefeatures, axis = 1)\n",
    "deleting_the_features = ['pickup_datetime', 'pickup_longitude', 'pickup_latitude','dropoff_longitude', 'dropoff_latitude','Minute']\n",
    "B = B.drop(deleting_the_features, axis = 1)"
   ]
  },
  {
   "cell_type": "code",
   "execution_count": 20,
   "metadata": {},
   "outputs": [
    {
     "data": {
      "text/plain": [
       "(   fare_amount  passenger_count  year  Month  Date  Day  Hour  distance\n",
       " 0          4.5              1.0  2009      6    15    0    17  1.030764\n",
       " 1         16.9              1.0  2010      1     5    1    16  8.450134\n",
       " 2          5.7              2.0  2011      8    18    3     0  1.389525\n",
       " 3          7.7              1.0  2012      4    21    5     4  2.799270\n",
       " 4          5.3              1.0  2010      3     9    1     7  1.999157,\n",
       " (15423, 8))"
      ]
     },
     "execution_count": 20,
     "metadata": {},
     "output_type": "execute_result"
    }
   ],
   "source": [
    "A.head(), A.shape"
   ]
  },
  {
   "cell_type": "code",
   "execution_count": 21,
   "metadata": {},
   "outputs": [
    {
     "data": {
      "text/plain": [
       "(   passenger_count  year  Month  Date  Day  Hour  distance\n",
       " 0                1  2015      1    27    1    13  2.323259\n",
       " 1                1  2015      1    27    1    13  2.425353\n",
       " 2                1  2011     10     8    5    11  0.618628\n",
       " 3                1  2012     12     1    5    21  1.961033\n",
       " 4                1  2012     12     1    5    21  5.387301, (9829, 7))"
      ]
     },
     "execution_count": 21,
     "metadata": {},
     "output_type": "execute_result"
    }
   ],
   "source": [
    "B.head(), B.shape"
   ]
  },
  {
   "cell_type": "code",
   "execution_count": 23,
   "metadata": {},
   "outputs": [],
   "source": [
    "# converting the data in required data type.\n",
    "A['passenger_count'] = A['passenger_count'].astype('int64')\n",
    "A['year'] = A['year'].astype('int64')\n",
    "A['Month'] = A['Month'].astype('int64')\n",
    "A['Date'] = A['Date'].astype('int64')\n",
    "A['Day'] = A['Day'].astype('int64')\n",
    "A['Hour'] = A['Hour'].astype('int64')"
   ]
  },
  {
   "cell_type": "code",
   "execution_count": 24,
   "metadata": {},
   "outputs": [],
   "source": [
    "# converting the data in required data type.\n",
    "B['passenger_count'] = B['passenger_count'].astype('int64')\n",
    "B['year'] = B['year'].astype('int64')\n",
    "B['Month'] = B['Month'].astype('int64')\n",
    "B['Date'] = B['Date'].astype('int64')\n",
    "B['Day'] = B['Day'].astype('int64')\n",
    "B['Hour'] = B['Hour'].astype('int64')\n"
   ]
  },
  {
   "cell_type": "code",
   "execution_count": 25,
   "metadata": {},
   "outputs": [
    {
     "data": {
      "text/plain": [
       "fare_amount        float64\n",
       "passenger_count      int64\n",
       "year                 int64\n",
       "Month                int64\n",
       "Date                 int64\n",
       "Day                  int64\n",
       "Hour                 int64\n",
       "distance           float64\n",
       "dtype: object"
      ]
     },
     "execution_count": 25,
     "metadata": {},
     "output_type": "execute_result"
    }
   ],
   "source": [
    "A.dtypes"
   ]
  },
  {
   "cell_type": "code",
   "execution_count": 26,
   "metadata": {},
   "outputs": [
    {
     "data": {
      "text/plain": [
       "passenger_count      int64\n",
       "year                 int64\n",
       "Month                int64\n",
       "Date                 int64\n",
       "Day                  int64\n",
       "Hour                 int64\n",
       "distance           float64\n",
       "dtype: object"
      ]
     },
     "execution_count": 26,
     "metadata": {},
     "output_type": "execute_result"
    }
   ],
   "source": [
    "B.dtypes"
   ]
  },
  {
   "cell_type": "code",
   "execution_count": 50,
   "metadata": {},
   "outputs": [
    {
     "data": {
      "text/plain": [
       "(array([10881.,     0.,  2260.,     0.,   655.,     0.,   317.,     0.,\n",
       "         1016.,   294.]),\n",
       " array([1. , 1.5, 2. , 2.5, 3. , 3.5, 4. , 4.5, 5. , 5.5, 6. ]),\n",
       " <a list of 10 Patch objects>)"
      ]
     },
     "execution_count": 50,
     "metadata": {},
     "output_type": "execute_result"
    },
    {
     "data": {
      "image/png": "[encoded data removed]",
      "text/plain": [
       "<Figure size 432x288 with 1 Axes>"
      ]
     },
     "metadata": {
      "needs_background": "light"
     },
     "output_type": "display_data"
    }
   ],
   "source": [
    "# DATA VISUALIZATIONS.\n",
    "plt.hist(A['passenger_count'],color='green') # there are lot of single passenger travellers, followed by 2,5,3,4,6. "
   ]
  },
  {
   "cell_type": "code",
   "execution_count": 30,
   "metadata": {},
   "outputs": [
    {
     "data": {
      "text/plain": [
       "<matplotlib.axes._subplots.AxesSubplot at 0x20f36224b00>"
      ]
     },
     "execution_count": 30,
     "metadata": {},
     "output_type": "execute_result"
    },
    {
     "data": {
      "image/png": "[encoded data removed]",
      "text/plain": [
       "<Figure size 720x360 with 1 Axes>"
      ]
     },
     "metadata": {
      "needs_background": "light"
     },
     "output_type": "display_data"
    }
   ],
   "source": [
    "# Count plot on passenger count\n",
    "plt.figure(figsize=(10,5))\n",
    "sns.countplot(x=\"passenger_count\", data=A)"
   ]
  },
  {
   "cell_type": "code",
   "execution_count": 32,
   "metadata": {},
   "outputs": [
    {
     "data": {
      "text/plain": [
       "<matplotlib.axes._subplots.AxesSubplot at 0x20f3622ed30>"
      ]
     },
     "execution_count": 32,
     "metadata": {},
     "output_type": "execute_result"
    },
    {
     "data": {
      "image/png": "[encoded data removed]",
      "text/plain": [
       "<Figure size 720x360 with 1 Axes>"
      ]
     },
     "metadata": {
      "needs_background": "light"
     },
     "output_type": "display_data"
    }
   ],
   "source": [
    "# Count plot on passenger count\n",
    "plt.figure(figsize=(10,5))\n",
    "sns.countplot(x=\"passenger_count\", data=B)  # passenger count for test data."
   ]
  },
  {
   "cell_type": "code",
   "execution_count": 49,
   "metadata": {},
   "outputs": [
    {
     "data": {
      "image/png": "[encoded data removed]",
      "text/plain": [
       "<Figure size 720x360 with 1 Axes>"
      ]
     },
     "metadata": {
      "needs_background": "light"
     },
     "output_type": "display_data"
    }
   ],
   "source": [
    "# relationship between passenger count and fare amount.\n",
    "plt.figure(figsize=(10,5))\n",
    "plt.scatter(x=\"passenger_count\",y=\"fare_amount\", data=A,color='blue')\n",
    "plt.xlabel('No. of passengers')\n",
    "plt.ylabel('Fare_amount')\n",
    "plt.show()"
   ]
  },
  {
   "cell_type": "code",
   "execution_count": 53,
   "metadata": {},
   "outputs": [
    {
     "data": {
      "image/png": "[encoded data removed]",
      "text/plain": [
       "<Figure size 1080x432 with 1 Axes>"
      ]
     },
     "metadata": {
      "needs_background": "light"
     },
     "output_type": "display_data"
    }
   ],
   "source": [
    "# relationship between date and fare amount.\n",
    "plt.figure(figsize=(15,6))\n",
    "plt.scatter(x=\"Date\",y=\"fare_amount\", data=A,color='blue')\n",
    "plt.xlabel('Date')\n",
    "plt.ylabel('Fare_amount')\n",
    "plt.show()"
   ]
  },
  {
   "cell_type": "code",
   "execution_count": 62,
   "metadata": {},
   "outputs": [
    {
     "data": {
      "text/plain": [
       "(array([1341.,  479.,  481., 2047., 1360., 1520., 2117., 1703., 1871.,\n",
       "        2504.]),\n",
       " array([ 0. ,  2.3,  4.6,  6.9,  9.2, 11.5, 13.8, 16.1, 18.4, 20.7, 23. ]),\n",
       " <a list of 10 Patch objects>)"
      ]
     },
     "execution_count": 62,
     "metadata": {},
     "output_type": "execute_result"
    },
    {
     "data": {
      "image/png": "[encoded data removed]",
      "text/plain": [
       "<Figure size 432x288 with 1 Axes>"
      ]
     },
     "metadata": {
      "needs_background": "light"
     },
     "output_type": "display_data"
    }
   ],
   "source": [
    "# number of cabs with respect to hours.  .\n",
    "plt.hist(A[\"Hour\"])"
   ]
  },
  {
   "cell_type": "code",
   "execution_count": 61,
   "metadata": {},
   "outputs": [
    {
     "data": {
      "image/png": "[encoded data removed]",
      "text/plain": [
       "<Figure size 1080x504 with 1 Axes>"
      ]
     },
     "metadata": {
      "needs_background": "light"
     },
     "output_type": "display_data"
    }
   ],
   "source": [
    "# number of cabs with respect to hours..\n",
    "plt.figure(figsize=(15,7))\n",
    "A.groupby(A[\"Hour\"])['Hour'].count().plot(kind=\"bar\")\n",
    "plt.show()"
   ]
  },
  {
   "cell_type": "code",
   "execution_count": 63,
   "metadata": {},
   "outputs": [
    {
     "data": {
      "image/png": "[encoded data removed]",
      "text/plain": [
       "<Figure size 720x360 with 1 Axes>"
      ]
     },
     "metadata": {
      "needs_background": "light"
     },
     "output_type": "display_data"
    }
   ],
   "source": [
    "# realationship between fare and hour\n",
    "plt.figure(figsize=(10,5))\n",
    "plt.scatter(x=\"Hour\",y=\"fare_amount\", data=A,color='blue')\n",
    "plt.xlabel('Hour')\n",
    "plt.ylabel('Fare_amount')\n",
    "plt.show()"
   ]
  },
  {
   "cell_type": "code",
   "execution_count": 64,
   "metadata": {},
   "outputs": [
    {
     "data": {
      "image/png": "[encoded data removed]",
      "text/plain": [
       "<Figure size 720x360 with 1 Axes>"
      ]
     },
     "metadata": {
      "needs_background": "light"
     },
     "output_type": "display_data"
    }
   ],
   "source": [
    "# realationship between fare and day\n",
    "plt.figure(figsize=(10,5))\n",
    "plt.scatter(x=\"Day\",y=\"fare_amount\", data=A,color='blue')\n",
    "plt.xlabel('Day')\n",
    "plt.ylabel('Fare_amount')\n",
    "plt.show()"
   ]
  },
  {
   "cell_type": "code",
   "execution_count": 70,
   "metadata": {},
   "outputs": [
    {
     "data": {
      "image/png": "[encoded data removed]",
      "text/plain": [
       "<Figure size 720x360 with 1 Axes>"
      ]
     },
     "metadata": {
      "needs_background": "light"
     },
     "output_type": "display_data"
    }
   ],
   "source": [
    "# realationship between fare and distance\n",
    "plt.figure(figsize=(10,5))\n",
    "plt.scatter(x=\"distance\",y=\"fare_amount\", data=A,color='blue')\n",
    "plt.xlabel('distance')\n",
    "plt.ylabel('fare')\n",
    "plt.show()"
   ]
  },
  {
   "cell_type": "code",
   "execution_count": 72,
   "metadata": {},
   "outputs": [
    {
     "name": "stdout",
     "output_type": "stream",
     "text": [
      "fare_amount\n"
     ]
    },
    {
     "data": {
      "image/png": "[encoded data removed]",
      "text/plain": [
       "<Figure size 432x288 with 1 Axes>"
      ]
     },
     "metadata": {
      "needs_background": "light"
     },
     "output_type": "display_data"
    },
    {
     "name": "stdout",
     "output_type": "stream",
     "text": [
      "distance\n"
     ]
    },
    {
     "data": {
      "image/png": "[encoded data removed]",
      "text/plain": [
       "<Figure size 432x288 with 1 Axes>"
      ]
     },
     "metadata": {
      "needs_background": "light"
     },
     "output_type": "display_data"
    }
   ],
   "source": [
    "# checking the distribution of features...(fare_amount and Distance), rest of the features are date, time, year , hour...\n",
    "#Normality check of training data is uniformly distributed or not-\n",
    "\n",
    "for i in ['fare_amount', 'distance']:\n",
    "    print(i)\n",
    "    sns.distplot(A[i],bins='auto',color='black')\n",
    "    plt.title(\"Distribution for Variable \"+i)\n",
    "    plt.ylabel(\"Density\")\n",
    "    plt.show()"
   ]
  },
  {
   "cell_type": "code",
   "execution_count": 73,
   "metadata": {},
   "outputs": [
    {
     "data": {
      "text/plain": [
       "(array([1.5113e+04, 3.0400e+02, 3.0000e+00, 1.0000e+00, 0.0000e+00,\n",
       "        0.0000e+00, 0.0000e+00, 0.0000e+00, 0.0000e+00, 2.0000e+00]),\n",
       " array([  1.14 ,  46.326,  91.512, 136.698, 181.884, 227.07 , 272.256,\n",
       "        317.442, 362.628, 407.814, 453.   ]),\n",
       " <a list of 10 Patch objects>)"
      ]
     },
     "execution_count": 73,
     "metadata": {},
     "output_type": "execute_result"
    },
    {
     "data": {
      "image/png": "[encoded data removed]",
      "text/plain": [
       "<Figure size 432x288 with 1 Axes>"
      ]
     },
     "metadata": {
      "needs_background": "light"
     },
     "output_type": "display_data"
    }
   ],
   "source": [
    "plt.hist(A['fare_amount'])"
   ]
  },
  {
   "cell_type": "code",
   "execution_count": 74,
   "metadata": {},
   "outputs": [
    {
     "data": {
      "text/plain": [
       "(array([1.4927e+04, 4.7900e+02, 4.0000e+00, 2.0000e+00, 0.0000e+00,\n",
       "        0.0000e+00, 0.0000e+00, 7.0000e+00, 0.0000e+00, 4.0000e+00]),\n",
       " array([1.11194926e-04, 1.29951483e+01, 2.59901854e+01, 3.89852225e+01,\n",
       "        5.19802596e+01, 6.49752967e+01, 7.79703338e+01, 9.09653709e+01,\n",
       "        1.03960408e+02, 1.16955445e+02, 1.29950482e+02]),\n",
       " <a list of 10 Patch objects>)"
      ]
     },
     "execution_count": 74,
     "metadata": {},
     "output_type": "execute_result"
    },
    {
     "data": {
      "image/png": "[encoded data removed]",
      "text/plain": [
       "<Figure size 432x288 with 1 Axes>"
      ]
     },
     "metadata": {
      "needs_background": "light"
     },
     "output_type": "display_data"
    }
   ],
   "source": [
    "plt.hist(A['distance'])"
   ]
  },
  {
   "cell_type": "code",
   "execution_count": 75,
   "metadata": {},
   "outputs": [],
   "source": [
    "#since skewness of target variable is high, apply log transform to reduce the skewness-\n",
    "A['fare_amount'] = np.log1p(A['fare_amount'])\n",
    "\n",
    "#since skewness of distance variable is high, apply log transform to reduce the skewness-\n",
    "A['distance'] = np.log1p(A['distance'])"
   ]
  },
  {
   "cell_type": "code",
   "execution_count": 76,
   "metadata": {},
   "outputs": [
    {
     "data": {
      "text/html": [
       "<div>\n",
       "<style scoped>\n",
       "    .dataframe tbody tr th:only-of-type {\n",
       "        vertical-align: middle;\n",
       "    }\n",
       "\n",
       "    .dataframe tbody tr th {\n",
       "        vertical-align: top;\n",
       "    }\n",
       "\n",
       "    .dataframe thead th {\n",
       "        text-align: right;\n",
       "    }\n",
       "</style>\n",
       "<table border=\"1\" class=\"dataframe\">\n",
       "  <thead>\n",
       "    <tr style=\"text-align: right;\">\n",
       "      <th></th>\n",
       "      <th>fare_amount</th>\n",
       "      <th>passenger_count</th>\n",
       "      <th>year</th>\n",
       "      <th>Month</th>\n",
       "      <th>Date</th>\n",
       "      <th>Day</th>\n",
       "      <th>Hour</th>\n",
       "      <th>distance</th>\n",
       "    </tr>\n",
       "  </thead>\n",
       "  <tbody>\n",
       "    <tr>\n",
       "      <th>0</th>\n",
       "      <td>1.704748</td>\n",
       "      <td>1</td>\n",
       "      <td>2009</td>\n",
       "      <td>6</td>\n",
       "      <td>15</td>\n",
       "      <td>0</td>\n",
       "      <td>17</td>\n",
       "      <td>0.708412</td>\n",
       "    </tr>\n",
       "    <tr>\n",
       "      <th>1</th>\n",
       "      <td>2.884801</td>\n",
       "      <td>1</td>\n",
       "      <td>2010</td>\n",
       "      <td>1</td>\n",
       "      <td>5</td>\n",
       "      <td>1</td>\n",
       "      <td>16</td>\n",
       "      <td>2.246029</td>\n",
       "    </tr>\n",
       "    <tr>\n",
       "      <th>2</th>\n",
       "      <td>1.902108</td>\n",
       "      <td>2</td>\n",
       "      <td>2011</td>\n",
       "      <td>8</td>\n",
       "      <td>18</td>\n",
       "      <td>3</td>\n",
       "      <td>0</td>\n",
       "      <td>0.871095</td>\n",
       "    </tr>\n",
       "    <tr>\n",
       "      <th>3</th>\n",
       "      <td>2.163323</td>\n",
       "      <td>1</td>\n",
       "      <td>2012</td>\n",
       "      <td>4</td>\n",
       "      <td>21</td>\n",
       "      <td>5</td>\n",
       "      <td>4</td>\n",
       "      <td>1.334809</td>\n",
       "    </tr>\n",
       "    <tr>\n",
       "      <th>4</th>\n",
       "      <td>1.840550</td>\n",
       "      <td>1</td>\n",
       "      <td>2010</td>\n",
       "      <td>3</td>\n",
       "      <td>9</td>\n",
       "      <td>1</td>\n",
       "      <td>7</td>\n",
       "      <td>1.098331</td>\n",
       "    </tr>\n",
       "  </tbody>\n",
       "</table>\n",
       "</div>"
      ],
      "text/plain": [
       "   fare_amount  passenger_count  year  Month  Date  Day  Hour  distance\n",
       "0     1.704748                1  2009      6    15    0    17  0.708412\n",
       "1     2.884801                1  2010      1     5    1    16  2.246029\n",
       "2     1.902108                2  2011      8    18    3     0  0.871095\n",
       "3     2.163323                1  2012      4    21    5     4  1.334809\n",
       "4     1.840550                1  2010      3     9    1     7  1.098331"
      ]
     },
     "execution_count": 76,
     "metadata": {},
     "output_type": "execute_result"
    }
   ],
   "source": [
    "A.head()"
   ]
  },
  {
   "cell_type": "code",
   "execution_count": 78,
   "metadata": {},
   "outputs": [
    {
     "name": "stdout",
     "output_type": "stream",
     "text": [
      "fare_amount\n"
     ]
    },
    {
     "data": {
      "image/png": "[encoded data removed]",
      "text/plain": [
       "<Figure size 432x288 with 1 Axes>"
      ]
     },
     "metadata": {
      "needs_background": "light"
     },
     "output_type": "display_data"
    },
    {
     "name": "stdout",
     "output_type": "stream",
     "text": [
      "distance\n"
     ]
    },
    {
     "data": {
      "image/png": "[encoded data removed]",
      "text/plain": [
       "<Figure size 432x288 with 1 Axes>"
      ]
     },
     "metadata": {
      "needs_background": "light"
     },
     "output_type": "display_data"
    }
   ],
   "source": [
    "for i in ['fare_amount', 'distance']:\n",
    "    print(i)\n",
    "    sns.distplot(A[i],bins='auto',color='black')\n",
    "    plt.title(\"Distribution for Variable \"+i)\n",
    "    plt.ylabel(\"Density\")\n",
    "    plt.show()"
   ]
  },
  {
   "cell_type": "code",
   "execution_count": 80,
   "metadata": {},
   "outputs": [
    {
     "data": {
      "image/png": "[encoded data removed]",
      "text/plain": [
       "<Figure size 432x288 with 1 Axes>"
      ]
     },
     "metadata": {
      "needs_background": "light"
     },
     "output_type": "display_data"
    }
   ],
   "source": [
    "#Normality check for test data is uniformly distributed or not-\n",
    "\n",
    "sns.distplot(B['distance'],bins='auto',color='black')\n",
    "plt.title(\"Distribution for Variable \"+i)\n",
    "plt.ylabel(\"Density\")\n",
    "plt.show()"
   ]
  },
  {
   "cell_type": "code",
   "execution_count": 82,
   "metadata": {},
   "outputs": [],
   "source": [
    "#since skewness of distance variable is high, apply log transform to reduce the skewness-\n",
    "B['distance'] = np.log1p(B['distance'])"
   ]
  },
  {
   "cell_type": "code",
   "execution_count": 81,
   "metadata": {},
   "outputs": [
    {
     "data": {
      "text/html": [
       "<div>\n",
       "<style scoped>\n",
       "    .dataframe tbody tr th:only-of-type {\n",
       "        vertical-align: middle;\n",
       "    }\n",
       "\n",
       "    .dataframe tbody tr th {\n",
       "        vertical-align: top;\n",
       "    }\n",
       "\n",
       "    .dataframe thead th {\n",
       "        text-align: right;\n",
       "    }\n",
       "</style>\n",
       "<table border=\"1\" class=\"dataframe\">\n",
       "  <thead>\n",
       "    <tr style=\"text-align: right;\">\n",
       "      <th></th>\n",
       "      <th>passenger_count</th>\n",
       "      <th>year</th>\n",
       "      <th>Month</th>\n",
       "      <th>Date</th>\n",
       "      <th>Day</th>\n",
       "      <th>Hour</th>\n",
       "      <th>distance</th>\n",
       "    </tr>\n",
       "  </thead>\n",
       "  <tbody>\n",
       "    <tr>\n",
       "      <th>0</th>\n",
       "      <td>1</td>\n",
       "      <td>2015</td>\n",
       "      <td>1</td>\n",
       "      <td>27</td>\n",
       "      <td>1</td>\n",
       "      <td>13</td>\n",
       "      <td>2.323259</td>\n",
       "    </tr>\n",
       "    <tr>\n",
       "      <th>1</th>\n",
       "      <td>1</td>\n",
       "      <td>2015</td>\n",
       "      <td>1</td>\n",
       "      <td>27</td>\n",
       "      <td>1</td>\n",
       "      <td>13</td>\n",
       "      <td>2.425353</td>\n",
       "    </tr>\n",
       "    <tr>\n",
       "      <th>2</th>\n",
       "      <td>1</td>\n",
       "      <td>2011</td>\n",
       "      <td>10</td>\n",
       "      <td>8</td>\n",
       "      <td>5</td>\n",
       "      <td>11</td>\n",
       "      <td>0.618628</td>\n",
       "    </tr>\n",
       "    <tr>\n",
       "      <th>3</th>\n",
       "      <td>1</td>\n",
       "      <td>2012</td>\n",
       "      <td>12</td>\n",
       "      <td>1</td>\n",
       "      <td>5</td>\n",
       "      <td>21</td>\n",
       "      <td>1.961033</td>\n",
       "    </tr>\n",
       "    <tr>\n",
       "      <th>4</th>\n",
       "      <td>1</td>\n",
       "      <td>2012</td>\n",
       "      <td>12</td>\n",
       "      <td>1</td>\n",
       "      <td>5</td>\n",
       "      <td>21</td>\n",
       "      <td>5.387301</td>\n",
       "    </tr>\n",
       "  </tbody>\n",
       "</table>\n",
       "</div>"
      ],
      "text/plain": [
       "   passenger_count  year  Month  Date  Day  Hour  distance\n",
       "0                1  2015      1    27    1    13  2.323259\n",
       "1                1  2015      1    27    1    13  2.425353\n",
       "2                1  2011     10     8    5    11  0.618628\n",
       "3                1  2012     12     1    5    21  1.961033\n",
       "4                1  2012     12     1    5    21  5.387301"
      ]
     },
     "execution_count": 81,
     "metadata": {},
     "output_type": "execute_result"
    }
   ],
   "source": [
    "B.head()"
   ]
  },
  {
   "cell_type": "code",
   "execution_count": 84,
   "metadata": {},
   "outputs": [
    {
     "data": {
      "image/png": "[encoded data removed]",
      "text/plain": [
       "<Figure size 432x288 with 1 Axes>"
      ]
     },
     "metadata": {
      "needs_background": "light"
     },
     "output_type": "display_data"
    }
   ],
   "source": [
    "sns.distplot(B['distance'],bins='auto',color='black')\n",
    "plt.title(\"Distribution for Variable \"+i)\n",
    "plt.ylabel(\"Density\")\n",
    "plt.show()"
   ]
  },
  {
   "cell_type": "code",
   "execution_count": 85,
   "metadata": {},
   "outputs": [],
   "source": [
    "numerical_val=['fare_amount','Date','distance','Hour','Day','passenger_count','year']"
   ]
  },
  {
   "cell_type": "code",
   "execution_count": 87,
   "metadata": {},
   "outputs": [
    {
     "data": {
      "image/png": "[encoded data removed]",
      "text/plain": [
       "<Figure size 504x360 with 2 Axes>"
      ]
     },
     "metadata": {
      "needs_background": "light"
     },
     "output_type": "display_data"
    }
   ],
   "source": [
    "# FEATURE SELECTION     #### FILTER METHOD ####    ## pearson correlation plot ##\n",
    "A_corr=A.loc[:,numerical_val]\n",
    "f, ax = plt.subplots(figsize=(7, 5))\n",
    "correlation_matrix=A_corr.corr()\n",
    "#correlation plot\n",
    "sns.heatmap(correlation_matrix,mask=np.zeros_like(correlation_matrix,dtype=np.bool),cmap=sns.diverging_palette(220,10,as_cmap=True),square=True,ax=ax).get_figure().savefig('pythonheat_map.png')"
   ]
  },
  {
   "cell_type": "code",
   "execution_count": null,
   "metadata": {},
   "outputs": [],
   "source": [
    "# by above observation removing feature \"Date\" it is highly negetively correlated with other features."
   ]
  },
  {
   "cell_type": "code",
   "execution_count": 118,
   "metadata": {},
   "outputs": [],
   "source": [
    "y=A['fare_amount']\n",
    "x=A.drop([\"fare_amount\"],axis=1)"
   ]
  },
  {
   "cell_type": "code",
   "execution_count": 122,
   "metadata": {},
   "outputs": [],
   "source": [
    "# splitting the train data set for model building and finding accuracy.\n",
    "xtrain,xtest,ytrain,ytest=train_test_split(x,y,test_size=0.1)"
   ]
  },
  {
   "cell_type": "code",
   "execution_count": 127,
   "metadata": {},
   "outputs": [
    {
     "data": {
      "text/plain": [
       "SelectFromModel(estimator=Lasso(alpha=0.005, copy_X=True, fit_intercept=True,\n",
       "                                max_iter=1000, normalize=False, positive=False,\n",
       "                                precompute=False, random_state=0,\n",
       "                                selection='cyclic', tol=0.0001,\n",
       "                                warm_start=False),\n",
       "                max_features=None, norm_order=1, prefit=False, threshold=None)"
      ]
     },
     "execution_count": 127,
     "metadata": {},
     "output_type": "execute_result"
    }
   ],
   "source": [
    "#### FEATURE SELECTION BY EMBEDDED METHOD   ####\n",
    "## LASSO REGRESSION SELECTION ## ## level 1 ##\n",
    "sel_ = SelectFromModel(Lasso(alpha=0.005, random_state=0)) # remember to set the seed, the random state in this function\n",
    "sel_.fit(xtrain, ytrain)"
   ]
  },
  {
   "cell_type": "code",
   "execution_count": 128,
   "metadata": {},
   "outputs": [
    {
     "data": {
      "text/plain": [
       "array([ True,  True,  True, False,  True,  True,  True])"
      ]
     },
     "execution_count": 128,
     "metadata": {},
     "output_type": "execute_result"
    }
   ],
   "source": [
    "sel_.get_support()"
   ]
  },
  {
   "cell_type": "code",
   "execution_count": 129,
   "metadata": {},
   "outputs": [
    {
     "name": "stdout",
     "output_type": "stream",
     "text": [
      "total features: 7\n",
      "selected features: 6\n",
      "features with coefficients shrank to zero: 1\n"
     ]
    }
   ],
   "source": [
    "# let's print the number of total and selected features\n",
    "\n",
    "# this is how we can make a list of the selected features\n",
    "selected_feat = xtrain.columns[(sel_.get_support())]\n",
    "\n",
    "# let's print some stats\n",
    "print('total features: {}'.format((xtrain.shape[1])))\n",
    "print('selected features: {}'.format(len(selected_feat)))\n",
    "print('features with coefficients shrank to zero: {}'.format(\n",
    "    np.sum(sel_.estimator_.coef_ == 0)))"
   ]
  },
  {
   "cell_type": "code",
   "execution_count": 130,
   "metadata": {},
   "outputs": [
    {
     "data": {
      "text/plain": [
       "Index(['passenger_count', 'year', 'Month', 'Day', 'Hour', 'distance'], dtype='object')"
      ]
     },
     "execution_count": 130,
     "metadata": {},
     "output_type": "execute_result"
    }
   ],
   "source": [
    "selected_feat   ## the below features are selected by EMBEDDED METHOD...SELECTION."
   ]
  },
  {
   "cell_type": "code",
   "execution_count": 132,
   "metadata": {},
   "outputs": [
    {
     "name": "stderr",
     "output_type": "stream",
     "text": [
      "C:\\Users\\ELCOT\\Anaconda3\\lib\\site-packages\\ipykernel_launcher.py:1: FutureWarning: The signature of `Series.to_csv` was aligned to that of `DataFrame.to_csv`, and argument 'header' will change its default value from False to True: please pass an explicit value to suppress this warning.\n",
      "  \"\"\"Entry point for launching an IPython kernel.\n"
     ]
    }
   ],
   "source": [
    "pd.Series(selected_feat).to_csv('selected_features.csv', index=False)"
   ]
  },
  {
   "cell_type": "code",
   "execution_count": 133,
   "metadata": {},
   "outputs": [],
   "source": [
    "features = pd.read_csv('selected_features.csv', header=None)\n",
    "features = [x for x in features[0]] "
   ]
  },
  {
   "cell_type": "code",
   "execution_count": 134,
   "metadata": {},
   "outputs": [],
   "source": [
    "# reduce the train and test set to the desired features\n",
    "\n",
    "xtrain = xtrain[features]\n",
    "xtest = xtest[features]"
   ]
  },
  {
   "cell_type": "code",
   "execution_count": 143,
   "metadata": {},
   "outputs": [],
   "source": [
    "# preparing the new test case data...\n",
    "B=B.drop(['Date'],axis=1)"
   ]
  },
  {
   "cell_type": "code",
   "execution_count": 144,
   "metadata": {},
   "outputs": [],
   "source": [
    "Btest=B"
   ]
  },
  {
   "cell_type": "code",
   "execution_count": 146,
   "metadata": {},
   "outputs": [
    {
     "data": {
      "text/plain": [
       "(9829, 6)"
      ]
     },
     "execution_count": 146,
     "metadata": {},
     "output_type": "execute_result"
    }
   ],
   "source": [
    "Btest.shape"
   ]
  },
  {
   "cell_type": "code",
   "execution_count": 147,
   "metadata": {},
   "outputs": [
    {
     "data": {
      "text/plain": [
       "((13880, 6), (1543, 6), (13880,), (1543,))"
      ]
     },
     "execution_count": 147,
     "metadata": {},
     "output_type": "execute_result"
    }
   ],
   "source": [
    "xtrain.shape,xtest.shape,ytrain.shape,ytest.shape"
   ]
  },
  {
   "cell_type": "code",
   "execution_count": 148,
   "metadata": {},
   "outputs": [],
   "source": [
    "### MODEL BUILDING ###\n",
    "## LINEAR REGRESSION ##\n",
    "LRmodel=sm.OLS(ytrain,xtrain).fit()"
   ]
  },
  {
   "cell_type": "code",
   "execution_count": 149,
   "metadata": {
    "scrolled": false
   },
   "outputs": [
    {
     "data": {
      "text/html": [
       "<table class=\"simpletable\">\n",
       "<caption>OLS Regression Results</caption>\n",
       "<tr>\n",
       "  <th>Dep. Variable:</th>       <td>fare_amount</td>   <th>  R-squared (uncentered):</th>      <td>   0.987</td> \n",
       "</tr>\n",
       "<tr>\n",
       "  <th>Model:</th>                   <td>OLS</td>       <th>  Adj. R-squared (uncentered):</th> <td>   0.987</td> \n",
       "</tr>\n",
       "<tr>\n",
       "  <th>Method:</th>             <td>Least Squares</td>  <th>  F-statistic:       </th>          <td>1.695e+05</td>\n",
       "</tr>\n",
       "<tr>\n",
       "  <th>Date:</th>             <td>Mon, 04 Nov 2019</td> <th>  Prob (F-statistic):</th>           <td>  0.00</td>  \n",
       "</tr>\n",
       "<tr>\n",
       "  <th>Time:</th>                 <td>19:55:23</td>     <th>  Log-Likelihood:    </th>          <td> -1936.0</td> \n",
       "</tr>\n",
       "<tr>\n",
       "  <th>No. Observations:</th>      <td> 13880</td>      <th>  AIC:               </th>          <td>   3884.</td> \n",
       "</tr>\n",
       "<tr>\n",
       "  <th>Df Residuals:</th>          <td> 13874</td>      <th>  BIC:               </th>          <td>   3929.</td> \n",
       "</tr>\n",
       "<tr>\n",
       "  <th>Df Model:</th>              <td>     6</td>      <th>                     </th>              <td> </td>    \n",
       "</tr>\n",
       "<tr>\n",
       "  <th>Covariance Type:</th>      <td>nonrobust</td>    <th>                     </th>              <td> </td>    \n",
       "</tr>\n",
       "</table>\n",
       "<table class=\"simpletable\">\n",
       "<tr>\n",
       "         <td></td>            <th>coef</th>     <th>std err</th>      <th>t</th>      <th>P>|t|</th>  <th>[0.025</th>    <th>0.975]</th>  \n",
       "</tr>\n",
       "<tr>\n",
       "  <th>passenger_count</th> <td>    0.0046</td> <td>    0.002</td> <td>    2.487</td> <td> 0.013</td> <td>    0.001</td> <td>    0.008</td>\n",
       "</tr>\n",
       "<tr>\n",
       "  <th>year</th>            <td>    0.0007</td> <td> 4.91e-06</td> <td>  134.848</td> <td> 0.000</td> <td>    0.001</td> <td>    0.001</td>\n",
       "</tr>\n",
       "<tr>\n",
       "  <th>Month</th>           <td>    0.0039</td> <td>    0.001</td> <td>    5.761</td> <td> 0.000</td> <td>    0.003</td> <td>    0.005</td>\n",
       "</tr>\n",
       "<tr>\n",
       "  <th>Day</th>             <td>   -0.0029</td> <td>    0.001</td> <td>   -2.403</td> <td> 0.016</td> <td>   -0.005</td> <td>   -0.001</td>\n",
       "</tr>\n",
       "<tr>\n",
       "  <th>Hour</th>            <td>    0.0005</td> <td>    0.000</td> <td>    1.279</td> <td> 0.201</td> <td>   -0.000</td> <td>    0.001</td>\n",
       "</tr>\n",
       "<tr>\n",
       "  <th>distance</th>        <td>    0.7686</td> <td>    0.004</td> <td>  198.136</td> <td> 0.000</td> <td>    0.761</td> <td>    0.776</td>\n",
       "</tr>\n",
       "</table>\n",
       "<table class=\"simpletable\">\n",
       "<tr>\n",
       "  <th>Omnibus:</th>       <td>5376.673</td> <th>  Durbin-Watson:     </th>  <td>   2.015</td> \n",
       "</tr>\n",
       "<tr>\n",
       "  <th>Prob(Omnibus):</th>  <td> 0.000</td>  <th>  Jarque-Bera (JB):  </th> <td>495029.631</td>\n",
       "</tr>\n",
       "<tr>\n",
       "  <th>Skew:</th>           <td> 0.930</td>  <th>  Prob(JB):          </th>  <td>    0.00</td> \n",
       "</tr>\n",
       "<tr>\n",
       "  <th>Kurtosis:</th>       <td>32.198</td>  <th>  Cond. No.          </th>  <td>3.30e+03</td> \n",
       "</tr>\n",
       "</table><br/><br/>Warnings:<br/>[1] Standard Errors assume that the covariance matrix of the errors is correctly specified.<br/>[2] The condition number is large, 3.3e+03. This might indicate that there are<br/>strong multicollinearity or other numerical problems."
      ],
      "text/plain": [
       "<class 'statsmodels.iolib.summary.Summary'>\n",
       "\"\"\"\n",
       "                                 OLS Regression Results                                \n",
       "=======================================================================================\n",
       "Dep. Variable:            fare_amount   R-squared (uncentered):                   0.987\n",
       "Model:                            OLS   Adj. R-squared (uncentered):              0.987\n",
       "Method:                 Least Squares   F-statistic:                          1.695e+05\n",
       "Date:                Mon, 04 Nov 2019   Prob (F-statistic):                        0.00\n",
       "Time:                        19:55:23   Log-Likelihood:                         -1936.0\n",
       "No. Observations:               13880   AIC:                                      3884.\n",
       "Df Residuals:                   13874   BIC:                                      3929.\n",
       "Df Model:                           6                                                  \n",
       "Covariance Type:            nonrobust                                                  \n",
       "===================================================================================\n",
       "                      coef    std err          t      P>|t|      [0.025      0.975]\n",
       "-----------------------------------------------------------------------------------\n",
       "passenger_count     0.0046      0.002      2.487      0.013       0.001       0.008\n",
       "year                0.0007   4.91e-06    134.848      0.000       0.001       0.001\n",
       "Month               0.0039      0.001      5.761      0.000       0.003       0.005\n",
       "Day                -0.0029      0.001     -2.403      0.016      -0.005      -0.001\n",
       "Hour                0.0005      0.000      1.279      0.201      -0.000       0.001\n",
       "distance            0.7686      0.004    198.136      0.000       0.761       0.776\n",
       "==============================================================================\n",
       "Omnibus:                     5376.673   Durbin-Watson:                   2.015\n",
       "Prob(Omnibus):                  0.000   Jarque-Bera (JB):           495029.631\n",
       "Skew:                           0.930   Prob(JB):                         0.00\n",
       "Kurtosis:                      32.198   Cond. No.                     3.30e+03\n",
       "==============================================================================\n",
       "\n",
       "Warnings:\n",
       "[1] Standard Errors assume that the covariance matrix of the errors is correctly specified.\n",
       "[2] The condition number is large, 3.3e+03. This might indicate that there are\n",
       "strong multicollinearity or other numerical problems.\n",
       "\"\"\""
      ]
     },
     "execution_count": 149,
     "metadata": {},
     "output_type": "execute_result"
    }
   ],
   "source": [
    "LRmodel.summary()"
   ]
  },
  {
   "cell_type": "code",
   "execution_count": 150,
   "metadata": {},
   "outputs": [],
   "source": [
    "predictionLR=LRmodel.predict(xtest)"
   ]
  },
  {
   "cell_type": "code",
   "execution_count": 152,
   "metadata": {},
   "outputs": [
    {
     "data": {
      "text/plain": [
       "8522     1.873007\n",
       "8984     2.509240\n",
       "14856    2.618794\n",
       "8284     2.613001\n",
       "6236     2.360400\n",
       "dtype: float64"
      ]
     },
     "execution_count": 152,
     "metadata": {},
     "output_type": "execute_result"
    }
   ],
   "source": [
    "predictionLR.head()"
   ]
  },
  {
   "cell_type": "code",
   "execution_count": 154,
   "metadata": {},
   "outputs": [],
   "source": [
    "newpredB=LRmodel.predict(Btest)"
   ]
  },
  {
   "cell_type": "code",
   "execution_count": 156,
   "metadata": {},
   "outputs": [
    {
     "data": {
      "text/plain": [
       "0    2.268725\n",
       "1    2.291980\n",
       "2    1.736111\n",
       "3    2.213491\n",
       "4    2.804340\n",
       "dtype: float64"
      ]
     },
     "execution_count": 156,
     "metadata": {},
     "output_type": "execute_result"
    }
   ],
   "source": [
    "newpredB.head()"
   ]
  },
  {
   "cell_type": "code",
   "execution_count": 157,
   "metadata": {},
   "outputs": [
    {
     "data": {
      "text/plain": [
       "Lasso(alpha=0.005, copy_X=True, fit_intercept=True, max_iter=1000,\n",
       "      normalize=False, positive=False, precompute=False, random_state=0,\n",
       "      selection='cyclic', tol=0.0001, warm_start=False)"
      ]
     },
     "execution_count": 157,
     "metadata": {},
     "output_type": "execute_result"
    }
   ],
   "source": [
    "### LASSO REGRESSION ###\n",
    "lasso_model = Lasso(alpha=0.005, random_state=0)\n",
    "lasso_model.fit(xtrain, ytrain)"
   ]
  },
  {
   "cell_type": "code",
   "execution_count": 161,
   "metadata": {},
   "outputs": [],
   "source": [
    "predict_lasso=lasso_model.predict(xtest)"
   ]
  },
  {
   "cell_type": "code",
   "execution_count": 164,
   "metadata": {},
   "outputs": [
    {
     "data": {
      "text/plain": [
       "array([1.96027809, 2.51013584, 2.6191131 , ..., 1.61404413, 2.14924523,\n",
       "       1.82414348])"
      ]
     },
     "execution_count": 164,
     "metadata": {},
     "output_type": "execute_result"
    }
   ],
   "source": [
    "predict_lasso"
   ]
  },
  {
   "cell_type": "code",
   "execution_count": 165,
   "metadata": {},
   "outputs": [
    {
     "data": {
      "text/plain": [
       "8522     1.791759\n",
       "8984     2.116256\n",
       "14856    2.509599\n",
       "8284     2.572612\n",
       "6236     2.674149\n",
       "Name: fare_amount, dtype: float64"
      ]
     },
     "execution_count": 165,
     "metadata": {},
     "output_type": "execute_result"
    }
   ],
   "source": [
    "ytest.head()"
   ]
  },
  {
   "cell_type": "code",
   "execution_count": 166,
   "metadata": {},
   "outputs": [],
   "source": [
    "predict_lassoB=lasso_model.predict(Btest)"
   ]
  },
  {
   "cell_type": "code",
   "execution_count": 167,
   "metadata": {},
   "outputs": [
    {
     "data": {
      "text/plain": [
       "array([2.37961157, 2.40239955, 1.73292813, ..., 3.75865788, 3.15436923,\n",
       "       2.06233397])"
      ]
     },
     "execution_count": 167,
     "metadata": {},
     "output_type": "execute_result"
    }
   ],
   "source": [
    "predict_lassoB"
   ]
  },
  {
   "cell_type": "code",
   "execution_count": 187,
   "metadata": {},
   "outputs": [],
   "source": [
    "### DECISION TREE REGRESSOR ###\n",
    "DTR=DecisionTreeRegressor(max_depth=10).fit(xtrain,ytrain)"
   ]
  },
  {
   "cell_type": "code",
   "execution_count": 170,
   "metadata": {},
   "outputs": [
    {
     "data": {
      "text/plain": [
       "DecisionTreeRegressor(criterion='mse', max_depth=3, max_features=None,\n",
       "                      max_leaf_nodes=None, min_impurity_decrease=0.0,\n",
       "                      min_impurity_split=None, min_samples_leaf=1,\n",
       "                      min_samples_split=2, min_weight_fraction_leaf=0.0,\n",
       "                      presort=False, random_state=None, splitter='best')"
      ]
     },
     "execution_count": 170,
     "metadata": {},
     "output_type": "execute_result"
    }
   ],
   "source": [
    "DTR"
   ]
  },
  {
   "cell_type": "code",
   "execution_count": 188,
   "metadata": {},
   "outputs": [],
   "source": [
    "prediction_DTR=DTR.predict(xtest)"
   ]
  },
  {
   "cell_type": "code",
   "execution_count": 189,
   "metadata": {},
   "outputs": [
    {
     "data": {
      "text/plain": [
       "array([1.74778903, 2.46818761, 2.42954885, ..., 1.6533939 , 2.17679327,\n",
       "       1.64437129])"
      ]
     },
     "execution_count": 189,
     "metadata": {},
     "output_type": "execute_result"
    }
   ],
   "source": [
    "prediction_DTR"
   ]
  },
  {
   "cell_type": "code",
   "execution_count": 190,
   "metadata": {},
   "outputs": [],
   "source": [
    "prediction_DTRB=DTR.predict(Btest)"
   ]
  },
  {
   "cell_type": "code",
   "execution_count": 191,
   "metadata": {},
   "outputs": [
    {
     "data": {
      "text/plain": [
       "array([2.44073665, 2.44073665, 1.6533939 , ..., 1.87180218, 3.0898586 ,\n",
       "       1.92764985])"
      ]
     },
     "execution_count": 191,
     "metadata": {},
     "output_type": "execute_result"
    }
   ],
   "source": [
    "prediction_DTRB"
   ]
  },
  {
   "cell_type": "code",
   "execution_count": 192,
   "metadata": {},
   "outputs": [],
   "source": [
    "### RANDOM FOREST REGRESSOR ###\n",
    "RF=RandomForestRegressor(n_estimators = 20).fit(xtrain, ytrain)"
   ]
  },
  {
   "cell_type": "code",
   "execution_count": 193,
   "metadata": {},
   "outputs": [],
   "source": [
    "RFprediction=RF.predict(xtest)"
   ]
  },
  {
   "cell_type": "code",
   "execution_count": 194,
   "metadata": {},
   "outputs": [
    {
     "data": {
      "text/plain": [
       "array([1.90846942, 2.81408908, 2.40214035, ..., 1.66488415, 2.05072706,\n",
       "       1.7467481 ])"
      ]
     },
     "execution_count": 194,
     "metadata": {},
     "output_type": "execute_result"
    }
   ],
   "source": [
    "RFprediction"
   ]
  },
  {
   "cell_type": "code",
   "execution_count": 195,
   "metadata": {},
   "outputs": [],
   "source": [
    "RFpredictionB=RF.predict(Btest)"
   ]
  },
  {
   "cell_type": "code",
   "execution_count": 196,
   "metadata": {},
   "outputs": [
    {
     "data": {
      "text/plain": [
       "array([2.49211221, 2.65584478, 1.77625769, ..., 3.23306324, 3.24722293,\n",
       "       2.14143763])"
      ]
     },
     "execution_count": 196,
     "metadata": {},
     "output_type": "execute_result"
    }
   ],
   "source": [
    "RFpredictionB"
   ]
  },
  {
   "cell_type": "code",
   "execution_count": 181,
   "metadata": {},
   "outputs": [],
   "source": [
    "##### MODEL EVALUATION #####\n",
    "#mape                                    #av= actual value and pv= predicted value\n",
    "def mape(av, pv): \n",
    "    mape = np.mean(np.abs((av - pv) / av))*100\n",
    "    return mape\n"
   ]
  },
  {
   "cell_type": "code",
   "execution_count": 182,
   "metadata": {},
   "outputs": [
    {
     "data": {
      "text/plain": [
       "7.9678426625798675"
      ]
     },
     "execution_count": 182,
     "metadata": {},
     "output_type": "execute_result"
    }
   ],
   "source": [
    "## performance of linear regression model.\n",
    "mape(ytest,predictionLR)                   ### Accuracy= 92.1 %\n",
    "                                          ### error =7.9 %"
   ]
  },
  {
   "cell_type": "code",
   "execution_count": 183,
   "metadata": {},
   "outputs": [
    {
     "data": {
      "text/plain": [
       "7.64444180801591"
      ]
     },
     "execution_count": 183,
     "metadata": {},
     "output_type": "execute_result"
    }
   ],
   "source": [
    "## performance of lasso regression model.\n",
    "mape(ytest,predict_lasso)                  ### Accuracy= 92.4 %\n",
    "                                           ### error= 7.6 %"
   ]
  },
  {
   "cell_type": "code",
   "execution_count": 197,
   "metadata": {},
   "outputs": [
    {
     "data": {
      "text/plain": [
       "8.022050182157194"
      ]
     },
     "execution_count": 197,
     "metadata": {},
     "output_type": "execute_result"
    }
   ],
   "source": [
    "## performance of decision tree regression model.\n",
    "mape(ytest,prediction_DTR)                         ### Accuracy= 92.0 %\n",
    "                                                   ### error= 8.0 %"
   ]
  },
  {
   "cell_type": "code",
   "execution_count": 198,
   "metadata": {},
   "outputs": [
    {
     "data": {
      "text/plain": [
       "7.859844745946555"
      ]
     },
     "execution_count": 198,
     "metadata": {},
     "output_type": "execute_result"
    }
   ],
   "source": [
    "## performance of random forest regression model.\n",
    "mape(ytest,RFprediction)                           ### Accuracy= 92.2 %\n",
    "                                                   ### error= 7.8 %"
   ]
  },
  {
   "cell_type": "code",
   "execution_count": 199,
   "metadata": {},
   "outputs": [],
   "source": [
    "#### MODEL SELECTION ####\n",
    " ## ALL MODELS PERFORM WELL \n",
    "    # NOTICABALLY LASSO AND RANDOM FOREST PERFORM VERY GOOD....."
   ]
  },
  {
   "cell_type": "code",
   "execution_count": 217,
   "metadata": {},
   "outputs": [
    {
     "data": {
      "text/plain": [
       "Text(0.5, 1.0, 'Feature Importance')"
      ]
     },
     "execution_count": 217,
     "metadata": {},
     "output_type": "execute_result"
    },
    {
     "data": {
      "image/png": "[encoded data removed]",
      "text/plain": [
       "<Figure size 1080x504 with 1 Axes>"
      ]
     },
     "metadata": {
      "needs_background": "light"
     },
     "output_type": "display_data"
    }
   ],
   "source": [
    "#  let's look at the feature importance (best model= lasso), so selecting lasso co-efficients\n",
    "\n",
    "importance = pd.Series(np.abs(lasso_model.coef_.ravel()))\n",
    "importance.index = features\n",
    "importance.sort_values(inplace=True, ascending=False)\n",
    "importance.plot.bar(figsize=(15,7))\n",
    "plt.ylabel('Lasso Coefficients')\n",
    "plt.title('Feature Importance')             ##### this section is further used for model deployment ."
   ]
  },
  {
   "cell_type": "code",
   "execution_count": 218,
   "metadata": {},
   "outputs": [],
   "source": [
    "#### writing back best prediction (lasso regression results) results to the TEST data set (B)\n",
    "B['fare_amount']=predict_lassoB"
   ]
  },
  {
   "cell_type": "code",
   "execution_count": 220,
   "metadata": {},
   "outputs": [
    {
     "data": {
      "text/html": [
       "<div>\n",
       "<style scoped>\n",
       "    .dataframe tbody tr th:only-of-type {\n",
       "        vertical-align: middle;\n",
       "    }\n",
       "\n",
       "    .dataframe tbody tr th {\n",
       "        vertical-align: top;\n",
       "    }\n",
       "\n",
       "    .dataframe thead th {\n",
       "        text-align: right;\n",
       "    }\n",
       "</style>\n",
       "<table border=\"1\" class=\"dataframe\">\n",
       "  <thead>\n",
       "    <tr style=\"text-align: right;\">\n",
       "      <th></th>\n",
       "      <th>passenger_count</th>\n",
       "      <th>year</th>\n",
       "      <th>Month</th>\n",
       "      <th>Day</th>\n",
       "      <th>Hour</th>\n",
       "      <th>distance</th>\n",
       "      <th>fare_amount</th>\n",
       "    </tr>\n",
       "  </thead>\n",
       "  <tbody>\n",
       "    <tr>\n",
       "      <th>0</th>\n",
       "      <td>1</td>\n",
       "      <td>2015</td>\n",
       "      <td>1</td>\n",
       "      <td>1</td>\n",
       "      <td>13</td>\n",
       "      <td>1.200946</td>\n",
       "      <td>2.379612</td>\n",
       "    </tr>\n",
       "    <tr>\n",
       "      <th>1</th>\n",
       "      <td>1</td>\n",
       "      <td>2015</td>\n",
       "      <td>1</td>\n",
       "      <td>1</td>\n",
       "      <td>13</td>\n",
       "      <td>1.231205</td>\n",
       "      <td>2.402400</td>\n",
       "    </tr>\n",
       "    <tr>\n",
       "      <th>2</th>\n",
       "      <td>1</td>\n",
       "      <td>2011</td>\n",
       "      <td>10</td>\n",
       "      <td>5</td>\n",
       "      <td>11</td>\n",
       "      <td>0.481579</td>\n",
       "      <td>1.732928</td>\n",
       "    </tr>\n",
       "    <tr>\n",
       "      <th>3</th>\n",
       "      <td>1</td>\n",
       "      <td>2012</td>\n",
       "      <td>12</td>\n",
       "      <td>5</td>\n",
       "      <td>21</td>\n",
       "      <td>1.085538</td>\n",
       "      <td>2.241805</td>\n",
       "    </tr>\n",
       "    <tr>\n",
       "      <th>4</th>\n",
       "      <td>1</td>\n",
       "      <td>2012</td>\n",
       "      <td>12</td>\n",
       "      <td>5</td>\n",
       "      <td>21</td>\n",
       "      <td>1.854312</td>\n",
       "      <td>2.820778</td>\n",
       "    </tr>\n",
       "  </tbody>\n",
       "</table>\n",
       "</div>"
      ],
      "text/plain": [
       "   passenger_count  year  Month  Day  Hour  distance  fare_amount\n",
       "0                1  2015      1    1    13  1.200946     2.379612\n",
       "1                1  2015      1    1    13  1.231205     2.402400\n",
       "2                1  2011     10    5    11  0.481579     1.732928\n",
       "3                1  2012     12    5    21  1.085538     2.241805\n",
       "4                1  2012     12    5    21  1.854312     2.820778"
      ]
     },
     "execution_count": 220,
     "metadata": {},
     "output_type": "execute_result"
    }
   ],
   "source": [
    "B.head()"
   ]
  },
  {
   "cell_type": "code",
   "execution_count": 234,
   "metadata": {},
   "outputs": [
    {
     "data": {
      "image/png": "[encoded data removed]",
      "text/plain": [
       "<Figure size 720x360 with 1 Axes>"
      ]
     },
     "metadata": {
      "needs_background": "light"
     },
     "output_type": "display_data"
    }
   ],
   "source": [
    "#### lets visualize the predicted fare amount in the test data.\n",
    "# realationship between fare and distance\n",
    "plt.figure(figsize=(10,5))\n",
    "plt.scatter(x=\"distance\",y=\"fare_amount\", data=B,color='red')\n",
    "plt.xlabel('distance')\n",
    "plt.ylabel('fare')\n",
    "plt.show()"
   ]
  },
  {
   "cell_type": "code",
   "execution_count": null,
   "metadata": {},
   "outputs": [],
   "source": [
    "#################   END OF PROJECT   ###############"
   ]
  }
 ],
 "metadata": {
  "kernelspec": {
   "display_name": "Python 3",
   "language": "python",
   "name": "python3"
  },
  "language_info": {
   "codemirror_mode": {
    "name": "ipython",
    "version": 3
   },
   "file_extension": ".py",
   "mimetype": "text/x-python",
   "name": "python",
   "nbconvert_exporter": "python",
   "pygments_lexer": "ipython3",
   "version": "3.7.3"
  }
 },
 "nbformat": 4,
 "nbformat_minor": 2
}
